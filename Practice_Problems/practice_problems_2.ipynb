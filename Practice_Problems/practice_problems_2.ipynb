{
 "cells": [
  {
   "cell_type": "markdown",
   "metadata": {},
   "source": [
    "Suppose you have these two classes:"
   ]
  },
  {
   "cell_type": "code",
   "execution_count": null,
   "metadata": {},
   "outputs": [],
   "source": [
    "class Game:\n",
    "    def play(self):\n",
    "        return 'Start the game!'\n",
    "\n",
    "class Bingo:\n",
    "    pass"
   ]
  },
  {
   "cell_type": "markdown",
   "metadata": {},
   "source": [
    "Update this code so that Bingo inherits the play method from the Game class."
   ]
  },
  {
   "cell_type": "code",
   "execution_count": 1,
   "metadata": {},
   "outputs": [],
   "source": [
    "class Game:\n",
    "    def play(self):\n",
    "        return 'Start the game!'\n",
    "\n",
    "class Bingo(Game):\n",
    "    pass"
   ]
  },
  {
   "cell_type": "markdown",
   "metadata": {},
   "source": [
    "Update your code from the previous question so the following code works as indicated:"
   ]
  },
  {
   "cell_type": "code",
   "execution_count": 20,
   "metadata": {},
   "outputs": [],
   "source": [
    "class Game:\n",
    "    count = 0\n",
    "\n",
    "    def __init__(self, game_name):\n",
    "        self.game_name = game_name\n",
    "        Game.count += 1\n",
    "\n",
    "    def play(self):\n",
    "        return f'Start the {self.game_name} game!'\n",
    "\n",
    "class Bingo(Game):\n",
    "    def __init__(self, game_name, name):\n",
    "        super().__init__(game_name)\n",
    "        self.player_name = name\n",
    "\n",
    "class Scrabble(Game):\n",
    "    def __init__(self, game_name, name1, name2):\n",
    "        super().__init__(game_name)\n",
    "        self.player_name1 = name1\n",
    "        self.player_name2 = name2"
   ]
  },
  {
   "cell_type": "code",
   "execution_count": 21,
   "metadata": {},
   "outputs": [
    {
     "name": "stdout",
     "output_type": "stream",
     "text": [
      "1\n",
      "Start the Bingo game!\n",
      "Bill\n",
      "2\n",
      "Start the Scrabble game!\n",
      "Jill\n",
      "Sill\n"
     ]
    },
    {
     "ename": "AttributeError",
     "evalue": "'Scrabble' object has no attribute 'player_name'",
     "output_type": "error",
     "traceback": [
      "\u001b[0;31m---------------------------------------------------------------------------\u001b[0m",
      "\u001b[0;31mAttributeError\u001b[0m                            Traceback (most recent call last)",
      "Cell \u001b[0;32mIn[21], line 11\u001b[0m\n\u001b[1;32m      9\u001b[0m \u001b[38;5;28mprint\u001b[39m(scrabble\u001b[38;5;241m.\u001b[39mplayer_name1)            \u001b[38;5;66;03m# Jill\u001b[39;00m\n\u001b[1;32m     10\u001b[0m \u001b[38;5;28mprint\u001b[39m(scrabble\u001b[38;5;241m.\u001b[39mplayer_name2)            \u001b[38;5;66;03m# Sill\u001b[39;00m\n\u001b[0;32m---> 11\u001b[0m \u001b[38;5;28mprint\u001b[39m(\u001b[43mscrabble\u001b[49m\u001b[38;5;241;43m.\u001b[39;49m\u001b[43mplayer_name\u001b[49m)\n\u001b[1;32m     12\u001b[0m \u001b[38;5;66;03m# AttributeError: 'Scrabble' object has no attribute 'player_name'\u001b[39;00m\n",
      "\u001b[0;31mAttributeError\u001b[0m: 'Scrabble' object has no attribute 'player_name'"
     ]
    }
   ],
   "source": [
    "bingo = Bingo('Bingo', 'Bill')\n",
    "print(Game.count)                       # 1\n",
    "print(bingo.play())                     # Start the Bingo game!\n",
    "print(bingo.player_name)                # Bill\n",
    "\n",
    "scrabble = Scrabble('Scrabble', 'Jill', 'Sill')\n",
    "print(Game.count)                       # 2\n",
    "print(scrabble.play())                  # Start the Scrabble game!\n",
    "print(scrabble.player_name1)            # Jill\n",
    "print(scrabble.player_name2)            # Sill\n",
    "print(scrabble.player_name)\n",
    "# AttributeError: 'Scrabble' object has no attribute 'player_name'"
   ]
  },
  {
   "cell_type": "markdown",
   "metadata": {},
   "source": [
    "What are the benefits of using object-oriented programming in Python? Think of as many as you can.\n",
    "\n",
    "1) Modularity : functionality can be self contained within a class\n",
    "2) reusability : classes and mixins can be reused in different programs\n",
    "3) understandability : some problems can be modeled more accurately using oo \n",
    "    - also having methods attached to classes can make it easier to understand how methods should be used\n"
   ]
  },
  {
   "cell_type": "markdown",
   "metadata": {},
   "source": [
    "#### LS answer\n",
    "\n",
    "There's no single right answer here, and we certainly can't list all the benefits. We will just summarize some of the major ones:\n",
    "\n",
    "1. As software becomes more complex, OOP helps manage this complexity.\n",
    "2. It lets programmers create containers for data that can be changed and manipulated without affecting the entire program.\n",
    "3. It lets programmers section off areas of code that perform specific procedures. This allows their programs to become the interaction of many small parts as opposed to a massive blob of dependencies.\n",
    "4. We can talk about objects as nouns and their behaviors as verbs. These distincitions make it easier to conceptualize the structure of an OO program.\n",
    "5. Creating classes and objects lets programmers think about code at a more abstract level.\n",
    "6. It lets programmers write code that can be used with different kinds of data.\n",
    "7. We can build applications faster as we can reuse pre-written code."
   ]
  },
  {
   "cell_type": "markdown",
   "metadata": {},
   "source": [
    "Suppose we have this code:"
   ]
  },
  {
   "cell_type": "code",
   "execution_count": 22,
   "metadata": {},
   "outputs": [],
   "source": [
    "class Greeting:\n",
    "    def greet(self, message):\n",
    "        print(message)\n",
    "\n",
    "class Hello(Greeting):\n",
    "    def hi(self):\n",
    "        self.greet('Hello')\n",
    "\n",
    "class Goodbye(Greeting):\n",
    "    def bye(self):\n",
    "        self.greet('Goodbye')"
   ]
  },
  {
   "cell_type": "markdown",
   "metadata": {},
   "source": [
    "Without running the above code, what would each snippet do were you to run it?"
   ]
  },
  {
   "cell_type": "markdown",
   "metadata": {},
   "source": [
    "1) The `Greeting` class is defined with an instance method `greet`, that takes one input `message` and prints the message.\n",
    "2) The `Hello` class inherits from the `Greeting` class and defines an instance method `hi` that takes no input but calles the `greet` method with the input 'Hello'. If the `hi` method is called on an instance of the `Hello` class, 'Hello' will be printed.\n",
    "3) The `Goodbye` class inherits from the `Greeting` class and defines an instance method `bye`, which is equivalent to the `Hello` class's `hi` method in its implementation. If the `bye` method is called on an instance of the `Goodbye` class, 'Goodbye' will be printed."
   ]
  },
  {
   "cell_type": "code",
   "execution_count": 23,
   "metadata": {},
   "outputs": [
    {
     "name": "stdout",
     "output_type": "stream",
     "text": [
      "Hello\n"
     ]
    }
   ],
   "source": [
    "# this will print 'Hello'\n",
    "\n",
    "hello = Hello()\n",
    "hello.hi()"
   ]
  },
  {
   "cell_type": "code",
   "execution_count": 24,
   "metadata": {},
   "outputs": [
    {
     "ename": "AttributeError",
     "evalue": "'Hello' object has no attribute 'bye'",
     "output_type": "error",
     "traceback": [
      "\u001b[0;31m---------------------------------------------------------------------------\u001b[0m",
      "\u001b[0;31mAttributeError\u001b[0m                            Traceback (most recent call last)",
      "Cell \u001b[0;32mIn[24], line 4\u001b[0m\n\u001b[1;32m      1\u001b[0m \u001b[38;5;66;03m# This will give an attribute error\u001b[39;00m\n\u001b[1;32m      3\u001b[0m hello \u001b[38;5;241m=\u001b[39m Hello()\n\u001b[0;32m----> 4\u001b[0m \u001b[43mhello\u001b[49m\u001b[38;5;241;43m.\u001b[39;49m\u001b[43mbye\u001b[49m()\n",
      "\u001b[0;31mAttributeError\u001b[0m: 'Hello' object has no attribute 'bye'"
     ]
    }
   ],
   "source": [
    "# This will give an attribute error\n",
    "\n",
    "hello = Hello()\n",
    "hello.bye()"
   ]
  },
  {
   "cell_type": "code",
   "execution_count": 25,
   "metadata": {},
   "outputs": [
    {
     "ename": "TypeError",
     "evalue": "Greeting.greet() missing 1 required positional argument: 'message'",
     "output_type": "error",
     "traceback": [
      "\u001b[0;31m---------------------------------------------------------------------------\u001b[0m",
      "\u001b[0;31mTypeError\u001b[0m                                 Traceback (most recent call last)",
      "Cell \u001b[0;32mIn[25], line 4\u001b[0m\n\u001b[1;32m      1\u001b[0m \u001b[38;5;66;03m# This will give a __ error \u001b[39;00m\n\u001b[1;32m      3\u001b[0m hello \u001b[38;5;241m=\u001b[39m Hello()\n\u001b[0;32m----> 4\u001b[0m \u001b[43mhello\u001b[49m\u001b[38;5;241;43m.\u001b[39;49m\u001b[43mgreet\u001b[49m\u001b[43m(\u001b[49m\u001b[43m)\u001b[49m\n",
      "\u001b[0;31mTypeError\u001b[0m: Greeting.greet() missing 1 required positional argument: 'message'"
     ]
    }
   ],
   "source": [
    "# This will give a type error \n",
    "\n",
    "hello = Hello()\n",
    "hello.greet()"
   ]
  },
  {
   "cell_type": "code",
   "execution_count": 26,
   "metadata": {},
   "outputs": [
    {
     "name": "stdout",
     "output_type": "stream",
     "text": [
      "Goodbye\n"
     ]
    }
   ],
   "source": [
    "# This will print 'Goodbye'\n",
    "\n",
    "hello = Hello()\n",
    "hello.greet('Goodbye')"
   ]
  },
  {
   "cell_type": "code",
   "execution_count": 27,
   "metadata": {},
   "outputs": [
    {
     "ename": "TypeError",
     "evalue": "Hello.hi() missing 1 required positional argument: 'self'",
     "output_type": "error",
     "traceback": [
      "\u001b[0;31m---------------------------------------------------------------------------\u001b[0m",
      "\u001b[0;31mTypeError\u001b[0m                                 Traceback (most recent call last)",
      "Cell \u001b[0;32mIn[27], line 3\u001b[0m\n\u001b[1;32m      1\u001b[0m \u001b[38;5;66;03m# This will give an attribute error\u001b[39;00m\n\u001b[0;32m----> 3\u001b[0m \u001b[43mHello\u001b[49m\u001b[38;5;241;43m.\u001b[39;49m\u001b[43mhi\u001b[49m\u001b[43m(\u001b[49m\u001b[43m)\u001b[49m\n",
      "\u001b[0;31mTypeError\u001b[0m: Hello.hi() missing 1 required positional argument: 'self'"
     ]
    }
   ],
   "source": [
    "# This will give an type error (missing argument self because we are calling it on a class rather than an instance)\n",
    "\n",
    "Hello.hi()"
   ]
  },
  {
   "cell_type": "markdown",
   "metadata": {},
   "source": [
    "Modify the code from the previous question so that Hello.hi() uses the Greeting.greet instance method to print Hi."
   ]
  },
  {
   "cell_type": "code",
   "execution_count": 28,
   "metadata": {},
   "outputs": [],
   "source": [
    "class Greeting:\n",
    "    def greet(self, message):\n",
    "        print(message)\n",
    "\n",
    "class Hello(Greeting):\n",
    "    def hi(self):\n",
    "        self.greet('Hello')\n",
    "\n",
    "class Goodbye(Greeting):\n",
    "    def bye(self):\n",
    "        self.greet('Goodbye')"
   ]
  },
  {
   "cell_type": "code",
   "execution_count": 43,
   "metadata": {},
   "outputs": [],
   "source": [
    "class Hello(Greeting):\n",
    "    def hi(self):\n",
    "        self.greet('Hello')\n",
    "\n",
    "    # Make sure you define the class method after\n",
    "    # the instance method. If you try it the other\n",
    "    # way, the question below will prove a bit\n",
    "    # challenging.\n",
    "    @classmethod\n",
    "    def hi(cls):\n",
    "        greeting = Greeting()\n",
    "        greeting.greet('Hi')"
   ]
  },
  {
   "cell_type": "code",
   "execution_count": 45,
   "metadata": {},
   "outputs": [
    {
     "name": "stdout",
     "output_type": "stream",
     "text": [
      "Hi\n",
      "Hi\n"
     ]
    }
   ],
   "source": [
    "meep = Hello()\n",
    "Hello.hi()\n",
    "meep.hi()"
   ]
  },
  {
   "cell_type": "markdown",
   "metadata": {},
   "source": [
    "Consider the following code:"
   ]
  },
  {
   "cell_type": "code",
   "execution_count": null,
   "metadata": {},
   "outputs": [],
   "source": [
    "class Cat:\n",
    "    def __init__(self, type):\n",
    "        self.type = type\n",
    "\n",
    "print(Cat('hairball'))\n",
    "# <__main__.Cat object at 0x10695eb10>"
   ]
  },
  {
   "cell_type": "markdown",
   "metadata": {},
   "source": [
    "The output here isn't very useful. It only tells us that we've got an instance of the Cat class, and it's memory address. It would be better if the output were more meaningful. For instance, maybe it can print I am a hairball instead. Update the code to produce that result."
   ]
  },
  {
   "cell_type": "code",
   "execution_count": 47,
   "metadata": {},
   "outputs": [
    {
     "name": "stdout",
     "output_type": "stream",
     "text": [
      "I am a hairball\n"
     ]
    }
   ],
   "source": [
    "class Cat:\n",
    "    def __init__(self, type):\n",
    "        self.type = type\n",
    "    \n",
    "    def __str__(self):\n",
    "        return f'I am a {self.type}'\n",
    "\n",
    "print(Cat('hairball'))\n",
    "# <__main__.Cat object at 0x10695eb10>"
   ]
  },
  {
   "cell_type": "markdown",
   "metadata": {},
   "source": [
    "What would happen if you ran the following code? Don't run it until you've checked your answer:"
   ]
  },
  {
   "cell_type": "markdown",
   "metadata": {},
   "source": [
    "1. We instantiate an object tv of Television class.\n",
    "2. We print the output of the `manufacturer` class method called on the tv object. This will print 'Amazon'.\n",
    "3. We print the output of the `model` instance method called on the tv object. This will print 'Omni Fire'.\n",
    "4. We print the output of the `manufacturer` class method called on the `Television` class. This will print 'Amazon'.\n",
    "5. We print the output of the `model` instance method called on the `Television` class. This will throw a type error because the `model` method is missing a self argument. "
   ]
  },
  {
   "cell_type": "code",
   "execution_count": 48,
   "metadata": {},
   "outputs": [
    {
     "name": "stdout",
     "output_type": "stream",
     "text": [
      "Amazon\n",
      "Omni Fire\n",
      "Amazon\n"
     ]
    },
    {
     "ename": "TypeError",
     "evalue": "Television.model() missing 1 required positional argument: 'self'",
     "output_type": "error",
     "traceback": [
      "\u001b[0;31m---------------------------------------------------------------------------\u001b[0m",
      "\u001b[0;31mTypeError\u001b[0m                                 Traceback (most recent call last)",
      "Cell \u001b[0;32mIn[48], line 14\u001b[0m\n\u001b[1;32m     11\u001b[0m \u001b[38;5;28mprint\u001b[39m(tv\u001b[38;5;241m.\u001b[39mmodel())\n\u001b[1;32m     13\u001b[0m \u001b[38;5;28mprint\u001b[39m(Television\u001b[38;5;241m.\u001b[39mmanufacturer())\n\u001b[0;32m---> 14\u001b[0m \u001b[38;5;28mprint\u001b[39m(\u001b[43mTelevision\u001b[49m\u001b[38;5;241;43m.\u001b[39;49m\u001b[43mmodel\u001b[49m\u001b[43m(\u001b[49m\u001b[43m)\u001b[49m)\n",
      "\u001b[0;31mTypeError\u001b[0m: Television.model() missing 1 required positional argument: 'self'"
     ]
    }
   ],
   "source": [
    "class Television:\n",
    "    @classmethod\n",
    "    def manufacturer(cls):\n",
    "        return 'Amazon'\n",
    "\n",
    "    def model(self):\n",
    "        return 'Omni Fire'\n",
    "\n",
    "tv = Television()\n",
    "print(tv.manufacturer())\n",
    "print(tv.model())\n",
    "\n",
    "print(Television.manufacturer())\n",
    "print(Television.model())"
   ]
  }
 ],
 "metadata": {
  "kernelspec": {
   "display_name": "Python 3",
   "language": "python",
   "name": "python3"
  },
  "language_info": {
   "codemirror_mode": {
    "name": "ipython",
    "version": 3
   },
   "file_extension": ".py",
   "mimetype": "text/x-python",
   "name": "python",
   "nbconvert_exporter": "python",
   "pygments_lexer": "ipython3",
   "version": "3.12.5"
  }
 },
 "nbformat": 4,
 "nbformat_minor": 2
}

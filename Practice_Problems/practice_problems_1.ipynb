{
 "cells": [
  {
   "cell_type": "markdown",
   "metadata": {},
   "source": [
    "Which of the following are objects in Python? If they are objects, how can you find out what class they belong to?\n",
    "\n",
    "True\n",
    "'hello'\n",
    "[1, 2, 3, 'happy days']\n",
    "142\n",
    "{1, 2, 3}\n",
    "1.2345"
   ]
  },
  {
   "cell_type": "markdown",
   "metadata": {},
   "source": [
    "True) this is a boolean object.\n",
    "'hello') this is a string object.\n",
    "[1,2,3 'happy days']) this is a list object.\n",
    "142) this is a numeric integer object\n",
    "{1,2,3}) this is a set object\n",
    "1.2345) this is a numeric float object\n",
    "\n",
    "To find the class, use type() or object.__class__"
   ]
  },
  {
   "cell_type": "code",
   "execution_count": 2,
   "metadata": {},
   "outputs": [
    {
     "name": "stdout",
     "output_type": "stream",
     "text": [
      "<class 'bool'>\n",
      "<class 'bool'>\n"
     ]
    }
   ],
   "source": [
    "print(True.__class__)\n",
    "print(type(True))"
   ]
  },
  {
   "cell_type": "markdown",
   "metadata": {},
   "source": [
    "Suppose you have an AngryCat class that looks like this:"
   ]
  },
  {
   "cell_type": "code",
   "execution_count": 3,
   "metadata": {},
   "outputs": [],
   "source": [
    "class AngryCat:\n",
    "    def hiss(self):\n",
    "        print('Hisssss!!!')"
   ]
  },
  {
   "cell_type": "markdown",
   "metadata": {},
   "source": [
    "How would you create a new instance of this class?"
   ]
  },
  {
   "cell_type": "markdown",
   "metadata": {},
   "source": [
    "You can create a new instance (instantiate a new object) of class AngryCat by calling the class constructor AngryCat()."
   ]
  },
  {
   "cell_type": "code",
   "execution_count": 4,
   "metadata": {},
   "outputs": [],
   "source": [
    "kitty = AngryCat()"
   ]
  },
  {
   "cell_type": "markdown",
   "metadata": {},
   "source": [
    "If we have a Car class and a Truck class and we want to be able to go_fast, how can we add the ability for them to go_fast using the mix-in SpeedMixin? How can you check whether your Car or Truck can now go fast?"
   ]
  },
  {
   "cell_type": "code",
   "execution_count": 5,
   "metadata": {},
   "outputs": [],
   "source": [
    "class SpeedMixin:\n",
    "    def go_fast(self):\n",
    "        print(f'I am a super fast {self.__class__.__name__}')\n",
    "\n",
    "class Car(SpeedMixin):\n",
    "    def go_slow(self):\n",
    "        print('I am safe and driving slow.')\n",
    "\n",
    "class Truck(SpeedMixin):\n",
    "    def go_very_slow(self):\n",
    "        print('I am a heavy truck and like going very slow.')"
   ]
  },
  {
   "cell_type": "code",
   "execution_count": 7,
   "metadata": {},
   "outputs": [
    {
     "name": "stdout",
     "output_type": "stream",
     "text": [
      "I am a super fast Car\n",
      "I am a super fast Truck\n"
     ]
    }
   ],
   "source": [
    "honda = Car()\n",
    "honda.go_fast()\n",
    "\n",
    "toyota = Truck()\n",
    "toyota.go_fast()"
   ]
  },
  {
   "cell_type": "markdown",
   "metadata": {},
   "source": [
    "In the previous question, we had a mix-in called SpeedMixin that contained a go_fast method. We add this mix-in to the Car class as shown below:"
   ]
  },
  {
   "cell_type": "code",
   "execution_count": 8,
   "metadata": {},
   "outputs": [
    {
     "name": "stdout",
     "output_type": "stream",
     "text": [
      "I am a super fast Car!\n",
      "None\n"
     ]
    }
   ],
   "source": [
    "class SpeedMixin:\n",
    "    def go_fast(self):\n",
    "        print(f'I am a super fast {self.__class__.__name__}!')\n",
    "\n",
    "class Car(SpeedMixin):\n",
    "    def go_slow(self):\n",
    "        print('I am safe and driving slow.')\n",
    "\n",
    "small_car = Car()\n",
    "print(small_car.go_fast())\n",
    "# I am a super fast Car!"
   ]
  },
  {
   "cell_type": "markdown",
   "metadata": {},
   "source": [
    "When we called small_car.go_fast, you may have noticed that the output includes the vehicle type. How is this done?"
   ]
  },
  {
   "cell_type": "markdown",
   "metadata": {},
   "source": [
    "The output of the go_fast() method is an f string with {self.__class__.__name__}. Because a Car object is calling the method (even though the method is defined in the SpeedMixin), the class name that is output is Car."
   ]
  },
  {
   "cell_type": "markdown",
   "metadata": {},
   "source": [
    "Launch school answer:\n",
    "\n",
    "We use self.__class__.__name__ in the method. It works like so:\n",
    "\n",
    "1. self refers to the object referenced by small_car. In this case, that's a Car object.\n",
    "2. self.__class__ returns a reference to the Car class, which is an object of the type class.\n",
    "3. Finally, self.__class__.__name__ returns the name of the Car class as a string: 'Car'."
   ]
  },
  {
   "cell_type": "markdown",
   "metadata": {},
   "source": [
    "Which of the following classes would create objects that have an instance variable. How do you know?"
   ]
  },
  {
   "cell_type": "code",
   "execution_count": 14,
   "metadata": {},
   "outputs": [],
   "source": [
    "class Fruit:\n",
    "    def __init__(self, name):\n",
    "        my_name = name\n",
    "\n",
    "class Pizza:\n",
    "    def __init__(self, name):\n",
    "        self.my_name = name"
   ]
  },
  {
   "cell_type": "code",
   "execution_count": 15,
   "metadata": {},
   "outputs": [
    {
     "name": "stdout",
     "output_type": "stream",
     "text": [
      "{}\n",
      "{'my_name': 'pepperoni'}\n"
     ]
    }
   ],
   "source": [
    "print(vars(Fruit('orange')))     # {}\n",
    "print(vars(Pizza('pepperoni')))  # {'my_name': 'pepperoni'}"
   ]
  },
  {
   "cell_type": "markdown",
   "metadata": {},
   "source": [
    "The Fruit class will create an object that does not have an instance variable. There is a variable defined in the __init__ function called my_name, but it is not prepended by self, so it is not data saved to the object as an instance variable. My name is a *local variable* within the __init__ method.\n",
    "\n",
    "The Pizza class will create an object that has one instance variable, my_name, which is initialized in the __init__ function when the object is instantiated. "
   ]
  },
  {
   "cell_type": "markdown",
   "metadata": {},
   "source": [
    "Without running the following code, can you determine what the following code will do? Explain why you will get those results."
   ]
  },
  {
   "cell_type": "markdown",
   "metadata": {},
   "source": [
    "This code prints the output of the `predict_the_future()` method called on an instance of the Oracle class. Within the class definition, we see that the predict_the_future method returns an f string f'You will `{random.choice(self.choices())}.` The `choices()` method returns a list: `['eat a nice lunch', 'take a nap soon', 'stay at work late', 'adopt a cat',]`. So, we are calling the `random.choice()` method with `self.choices()` and inserting that into the string 'You will ___.'. This should return one of the strings in the list from the `choices()` method. The result will be the string 'You will' and a random string from `['eat a nice lunch', 'take a nap soon', 'stay at work late', 'adopt a cat',]`."
   ]
  },
  {
   "cell_type": "code",
   "execution_count": 18,
   "metadata": {},
   "outputs": [
    {
     "name": "stdout",
     "output_type": "stream",
     "text": [
      "You will take a nap soon.\n"
     ]
    }
   ],
   "source": [
    "import random\n",
    "\n",
    "class Oracle:\n",
    "    def predict_the_future(self):\n",
    "        return f'You will {random.choice(self.choices())}.'\n",
    "\n",
    "    def choices(self):\n",
    "        return [\n",
    "            'eat a nice lunch',\n",
    "            'take a nap soon',\n",
    "            'stay at work late',\n",
    "            'adopt a cat',\n",
    "        ]\n",
    "\n",
    "oracle = Oracle()\n",
    "print(oracle.predict_the_future())"
   ]
  },
  {
   "cell_type": "markdown",
   "metadata": {},
   "source": [
    "Suppose you have the Oracle class and from above and a RoadTrip class that inherits from the Oracle class, as shown below:"
   ]
  },
  {
   "cell_type": "code",
   "execution_count": 19,
   "metadata": {},
   "outputs": [],
   "source": [
    "import random\n",
    "\n",
    "class Oracle:\n",
    "    def predict_the_future(self):\n",
    "        return f'You will {random.choice(self.choices())}.'\n",
    "\n",
    "    def choices(self):\n",
    "        return [\n",
    "            'eat a nice lunch',\n",
    "            'take a nap soon',\n",
    "            'stay at work late',\n",
    "            'adopt a cat',\n",
    "        ]\n",
    "\n",
    "class RoadTrip(Oracle):\n",
    "    def choices(self):\n",
    "        return [\n",
    "            'visit Vegas',\n",
    "            'fly to Fiji',\n",
    "            'romp in Rome',\n",
    "            'go on a Scrabble cruise',\n",
    "            'get hopelessly lost',\n",
    "        ]"
   ]
  },
  {
   "cell_type": "markdown",
   "metadata": {},
   "source": [
    "What will happen when you run the following code?"
   ]
  },
  {
   "cell_type": "markdown",
   "metadata": {},
   "source": [
    "When the `predict_the_future()` method is called by `trip`, which is an object of class `RoadTrip`, the call to `self.chocie()` in the `predict_the_future()` method will first look within the scope of the object's class (`RoadTrip`). Because there is a `choices` method defined in the `RoadTrip` class, `predict_the_future()` when called by `trip` will use that method and hence use those choices to select a random choice of either 'You will visit Vegas', 'You will fly to Fiji' etc."
   ]
  },
  {
   "cell_type": "code",
   "execution_count": 28,
   "metadata": {},
   "outputs": [
    {
     "name": "stdout",
     "output_type": "stream",
     "text": [
      "You will fly to Fiji.\n"
     ]
    }
   ],
   "source": [
    "trip = RoadTrip()\n",
    "print(trip.predict_the_future())"
   ]
  },
  {
   "cell_type": "markdown",
   "metadata": {},
   "source": [
    "Suppose you have an object named my_obj and that you want to call a method named foo using my_obj as the caller. How can you see where Python will look for the method. You don't need to determine the actual method location; just identifying the search sequence is sufficient."
   ]
  },
  {
   "cell_type": "code",
   "execution_count": 29,
   "metadata": {},
   "outputs": [
    {
     "name": "stdout",
     "output_type": "stream",
     "text": [
      "[<class '__main__.RoadTrip'>, <class '__main__.Oracle'>, <class 'object'>]\n"
     ]
    }
   ],
   "source": [
    "print(trip.__class__.mro())"
   ]
  },
  {
   "cell_type": "code",
   "execution_count": 30,
   "metadata": {},
   "outputs": [
    {
     "name": "stdout",
     "output_type": "stream",
     "text": [
      "RoadTrip\n",
      "Oracle\n",
      "object\n"
     ]
    }
   ],
   "source": [
    "for klass in trip.__class__.mro():\n",
    "    print(klass.__name__)"
   ]
  },
  {
   "cell_type": "markdown",
   "metadata": {},
   "source": [
    "There are several variables listed below. What are the different variable types and how do you know which is which?"
   ]
  },
  {
   "cell_type": "code",
   "execution_count": null,
   "metadata": {},
   "outputs": [],
   "source": [
    "excited_dog = 'excited dog' # local variable, not prefixed by anything\n",
    "self.excited_dog = 'excited dog' # instance variable, prefixed by self\n",
    "self.__class__.excited_dog = 'excited dog' # class variable, prefixed by self.__class__\n",
    "BigDog.excited_dog = 'excited dog' # class variable, prefixed by a class"
   ]
  },
  {
   "cell_type": "markdown",
   "metadata": {},
   "source": [
    "Suppose you have the following class:"
   ]
  },
  {
   "cell_type": "code",
   "execution_count": 32,
   "metadata": {},
   "outputs": [],
   "source": [
    "class Cat:\n",
    "    _cats_count = 0\n",
    "\n",
    "    def __init__(self, type):\n",
    "        self.type = type\n",
    "        self.__class__._cats_count += 1\n",
    "\n",
    "    @classmethod\n",
    "    def cats_count(cls):\n",
    "        return cls._cats_count"
   ]
  },
  {
   "cell_type": "markdown",
   "metadata": {},
   "source": [
    "Explain what the _cats_count variable is, what it does in this class, and how it works. Write some code to test your theory."
   ]
  },
  {
   "cell_type": "markdown",
   "metadata": {},
   "source": [
    "The `_cats_count` variable is a class variable (not intended to be touched by the user), which increases by one each time a new `Cat` object is instantiated and initialized. It effectively counts how many `Cat` objects have been created."
   ]
  },
  {
   "cell_type": "code",
   "execution_count": 34,
   "metadata": {},
   "outputs": [
    {
     "name": "stdout",
     "output_type": "stream",
     "text": [
      "1\n",
      "2\n",
      "4\n"
     ]
    }
   ],
   "source": [
    "charlie = Cat('striped')\n",
    "print(Cat.cats_count())\n",
    "\n",
    "nala = Cat('tortie')\n",
    "print(Cat.cats_count())\n",
    "\n",
    "cat3 = Cat('black')\n",
    "cat4 = Cat('orange')\n",
    "print(Cat.cats_count())\n"
   ]
  },
  {
   "cell_type": "code",
   "execution_count": 35,
   "metadata": {},
   "outputs": [
    {
     "data": {
      "text/plain": [
       "2125.0"
      ]
     },
     "execution_count": 35,
     "metadata": {},
     "output_type": "execute_result"
    }
   ],
   "source": [
    "4250/2"
   ]
  }
 ],
 "metadata": {
  "kernelspec": {
   "display_name": "Python 3",
   "language": "python",
   "name": "python3"
  },
  "language_info": {
   "codemirror_mode": {
    "name": "ipython",
    "version": 3
   },
   "file_extension": ".py",
   "mimetype": "text/x-python",
   "name": "python",
   "nbconvert_exporter": "python",
   "pygments_lexer": "ipython3",
   "version": "3.12.5"
  }
 },
 "nbformat": 4,
 "nbformat_minor": 2
}

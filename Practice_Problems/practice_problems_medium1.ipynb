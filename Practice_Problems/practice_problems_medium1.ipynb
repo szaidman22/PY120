{
 "cells": [
  {
   "cell_type": "markdown",
   "metadata": {},
   "source": [
    "Alyssa asked Ben to code review the following code:"
   ]
  },
  {
   "cell_type": "code",
   "execution_count": null,
   "metadata": {},
   "outputs": [],
   "source": [
    "class BankAccount:\n",
    "    def __init__(self, starting_balance):\n",
    "        self._balance = starting_balance\n",
    "\n",
    "    def balance_is_positive(self):\n",
    "        return self.balance > 0\n",
    "\n",
    "    @property\n",
    "    def balance(self):\n",
    "        return self._balance"
   ]
  },
  {
   "cell_type": "markdown",
   "metadata": {},
   "source": [
    "Ben glanced over the code quickly and said - \"It looks fine, except that you're trying to access self.balance instead of self._balance in the balance_is_positive method.\"\n",
    "\n",
    "\"Not so fast,\" Alyssa replied. \"What I'm doing here is valid; I can definitely use self.balance there!\"\n",
    "\n",
    "Who is correct, Ben or Alyssa? Why?"
   ]
  },
  {
   "cell_type": "markdown",
   "metadata": {},
   "source": [
    "Alyssa is correct. When she references `self.balance` in the `balance_is_positive` method, she is accessing the `balance` property which returns the instnace variable `self._balance`."
   ]
  },
  {
   "cell_type": "markdown",
   "metadata": {},
   "source": [
    "Alan created the following code to keep track of items for a shopping cart application he's writing:"
   ]
  },
  {
   "cell_type": "code",
   "execution_count": null,
   "metadata": {},
   "outputs": [],
   "source": [
    "class InvoiceEntry:\n",
    "    def __init__(self, product_name, number_purchased):\n",
    "        self._product_name = product_name\n",
    "        self._quantity = number_purchased\n",
    "\n",
    "entry = InvoiceEntry('Marbles', 5000)\n",
    "print(entry.quantity)         # 5000\n",
    "\n",
    "entry.quantity = 10_000\n",
    "print(entry.quantity)         # 10_000"
   ]
  },
  {
   "cell_type": "markdown",
   "metadata": {},
   "source": [
    "Without changing any of the above lines of code, update the InvoiceEntry class so it functions as shown."
   ]
  },
  {
   "cell_type": "code",
   "execution_count": 3,
   "metadata": {},
   "outputs": [
    {
     "name": "stdout",
     "output_type": "stream",
     "text": [
      "quantity got\n",
      "5000\n",
      "quantity set\n",
      "quantity got\n",
      "10000\n"
     ]
    }
   ],
   "source": [
    "class InvoiceEntry:\n",
    "    def __init__(self, product_name, number_purchased):\n",
    "        self._product_name = product_name\n",
    "        self._quantity = number_purchased\n",
    "\n",
    "    @property\n",
    "    def quantity(self):\n",
    "        print('quantity got')\n",
    "        return self._quantity\n",
    "    \n",
    "    @quantity.setter\n",
    "    def quantity(self, new_quantity):\n",
    "        print('quantity set')\n",
    "        self._quantity = new_quantity\n",
    "\n",
    "\n",
    "entry = InvoiceEntry('Marbles', 5000)\n",
    "print(entry.quantity)         # 5000\n",
    "\n",
    "entry.quantity = 10_000\n",
    "print(entry.quantity)         # 10_000"
   ]
  },
  {
   "cell_type": "markdown",
   "metadata": {},
   "source": [
    "Let's practice creating an object hierarchy.\n",
    "\n",
    "Create a class called Animal with a single instance method called speak that takes a string argument and prints that argument to the terminal.\n",
    "\n",
    "Now create two other classes that inherit from Animal, one called Cat and one called Dog. The Cat class should have a meow method that takes no arguments and prints Meow!. The Dog class should have a bark method that says Woof! Woof! Woof! (dogs never bark just once). Make use of the Animal class's speak method when implementing the Cat and Dog classes. Don't invoke the print function in either of the subclasses."
   ]
  },
  {
   "cell_type": "code",
   "execution_count": 21,
   "metadata": {},
   "outputs": [],
   "source": [
    "class Animal():\n",
    "    def __init__(self):\n",
    "        self._sound = 'I am an animal.'\n",
    "\n",
    "    @property\n",
    "    def sound(self):\n",
    "        return self._sound\n",
    "    \n",
    "    @sound.setter\n",
    "    def sound(self, sound):\n",
    "        if not isinstance(sound, str):\n",
    "            raise TypeError('Sound must be a string!')\n",
    "        \n",
    "        self._sound = sound\n",
    "    \n",
    "    def speak(self, sound):\n",
    "        print(sound)\n",
    "\n",
    "class Cat(Animal):\n",
    "    def __init__(self):\n",
    "        self._sound = 'Meow!'\n",
    "\n",
    "    def meow(self):\n",
    "        self.speak(self.sound)\n",
    "\n",
    "class Dog(Animal):\n",
    "    def __init__(self):\n",
    "        self._sound = ('Woof! ' * 3).strip()\n",
    "\n",
    "    def bark(self):\n",
    "        self.speak(self.sound)       "
   ]
  },
  {
   "cell_type": "code",
   "execution_count": 23,
   "metadata": {},
   "outputs": [
    {
     "name": "stdout",
     "output_type": "stream",
     "text": [
      "Woof! Woof! Woof!\n",
      "Meow!\n",
      "Hello my friend.\n",
      "squeek\n",
      "Woof! Woof! Woof!\n"
     ]
    }
   ],
   "source": [
    "daisy = Dog()\n",
    "daisy.bark()\n",
    "\n",
    "nala = Cat()\n",
    "nala.meow()\n",
    "\n",
    "daisy.speak('Hello my friend.')\n",
    "\n",
    "daisy.sound = 'squeek'\n",
    "daisy.bark()\n",
    "\n",
    "marco = Dog()\n",
    "marco.bark()"
   ]
  },
  {
   "cell_type": "markdown",
   "metadata": {},
   "source": [
    "You are given the following code:"
   ]
  },
  {
   "cell_type": "code",
   "execution_count": null,
   "metadata": {},
   "outputs": [],
   "source": [
    "class KrispyKreme:\n",
    "    def __init__(self, filling, glazing):\n",
    "        self.filling = filling\n",
    "        self.glazing = glazing\n",
    "\n",
    "donut1 = KrispyKreme(None, None)\n",
    "donut2 = KrispyKreme('Vanilla', None)\n",
    "donut3 = KrispyKreme(None, 'sugar')\n",
    "donut4 = KrispyKreme(None, 'chocolate sprinkles')\n",
    "donut5 = KrispyKreme('Custard', 'icing')\n",
    "\n",
    "print(donut1)       # Plain\n",
    "print(donut2)       # Vanilla\n",
    "print(donut3)       # Plain with sugar\n",
    "print(donut4)       # Plain with chocolate sprinkles\n",
    "print(donut5)       # Custard with icing"
   ]
  },
  {
   "cell_type": "markdown",
   "metadata": {},
   "source": [
    "Write additional code for KrispyKreme such that the print invocations will work as shown above."
   ]
  },
  {
   "cell_type": "code",
   "execution_count": 26,
   "metadata": {},
   "outputs": [
    {
     "name": "stdout",
     "output_type": "stream",
     "text": [
      "Plain\n",
      "Vanilla\n",
      "Plain with sugar\n",
      "Plain with chocolate sprinkles\n",
      "Custard with icing\n"
     ]
    }
   ],
   "source": [
    "class KrispyKreme:\n",
    "    def __init__(self, filling, glazing):\n",
    "        self.filling = filling\n",
    "        self.glazing = glazing\n",
    "\n",
    "    def __str__(self):\n",
    "        if not self.filling and not self.glazing:\n",
    "            return 'Plain'\n",
    "        elif not self.filling and self.glazing:\n",
    "            return f'Plain with {self.glazing}'\n",
    "        elif self.filling and not self.glazing:\n",
    "            return self.filling\n",
    "        else:\n",
    "            return f'{self.filling} with {self.glazing}'\n",
    "\n",
    "donut1 = KrispyKreme(None, None)\n",
    "donut2 = KrispyKreme('Vanilla', None)\n",
    "donut3 = KrispyKreme(None, 'sugar')\n",
    "donut4 = KrispyKreme(None, 'chocolate sprinkles')\n",
    "donut5 = KrispyKreme('Custard', 'icing')\n",
    "\n",
    "print(donut1)       # Plain\n",
    "print(donut2)       # Vanilla\n",
    "print(donut3)       # Plain with sugar\n",
    "print(donut4)       # Plain with chocolate sprinkles\n",
    "print(donut5)       # Custard with icing"
   ]
  },
  {
   "cell_type": "markdown",
   "metadata": {},
   "source": [
    "How could you change the light_status method name below so that the method name is clearer and less repetitive?"
   ]
  },
  {
   "cell_type": "code",
   "execution_count": 27,
   "metadata": {},
   "outputs": [
    {
     "name": "stdout",
     "output_type": "stream",
     "text": [
      "I have a brightness level of 50 and a color of Red\n"
     ]
    }
   ],
   "source": [
    "class Light:\n",
    "    def __init__(self, brightness, color):\n",
    "        self.brightness = brightness\n",
    "        self.color = color\n",
    "\n",
    "    def light_status(self):\n",
    "        return (f'I have a brightness level of {self.brightness} '\n",
    "                f'and a color of {self.color}')\n",
    "\n",
    "my_light = Light(50, 'Red')\n",
    "print(my_light.light_status())"
   ]
  },
  {
   "cell_type": "code",
   "execution_count": 28,
   "metadata": {},
   "outputs": [
    {
     "name": "stdout",
     "output_type": "stream",
     "text": [
      "I have a brightness level of 50 and a color of Red\n"
     ]
    }
   ],
   "source": [
    "class Light:\n",
    "    def __init__(self, brightness, color):\n",
    "        self.brightness = brightness\n",
    "        self.color = color\n",
    "\n",
    "    def status(self):\n",
    "        return (f'I have a brightness level of {self.brightness} '\n",
    "                f'and a color of {self.color}')\n",
    "\n",
    "my_light = Light(50, 'Red')\n",
    "print(my_light.status())"
   ]
  }
 ],
 "metadata": {
  "kernelspec": {
   "display_name": "Python 3",
   "language": "python",
   "name": "python3"
  },
  "language_info": {
   "codemirror_mode": {
    "name": "ipython",
    "version": 3
   },
   "file_extension": ".py",
   "mimetype": "text/x-python",
   "name": "python",
   "nbconvert_exporter": "python",
   "pygments_lexer": "ipython3",
   "version": "3.12.5"
  }
 },
 "nbformat": 4,
 "nbformat_minor": 2
}

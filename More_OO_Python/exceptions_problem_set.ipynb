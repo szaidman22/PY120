{
 "cells": [
  {
   "cell_type": "code",
   "execution_count": 4,
   "metadata": {},
   "outputs": [
    {
     "name": "stdout",
     "output_type": "stream",
     "text": [
      "Got ValueError\n"
     ]
    }
   ],
   "source": [
    "def foo1():\n",
    "\n",
    "    # raise ZeroDivisionError('Got ZeroDivisionError')\n",
    "    raise ValueError('Got ValueError')\n",
    "    # raise AttributeError('Got AttributeError')\n",
    "    print('We should not be here')\n",
    "\n",
    "def foo2():\n",
    "    try:\n",
    "        foo1()\n",
    "    except ZeroDivisionError:\n",
    "        print('Got ZeroDivisionError')\n",
    "\n",
    "def foo3():\n",
    "    try:\n",
    "        foo2()\n",
    "    except ValueError:\n",
    "        print('Got ValueError')\n",
    "\n",
    "foo3()"
   ]
  },
  {
   "cell_type": "markdown",
   "metadata": {},
   "source": [
    "Write a program that asks the user for two numbers and divides the first number by the second number. Handle any potential ZeroDivisionError or ValueError exceptions (there is no need to retry inputs in this problem)."
   ]
  },
  {
   "cell_type": "code",
   "execution_count": 9,
   "metadata": {},
   "outputs": [],
   "source": [
    "def division_program(num1, num2):\n",
    "    try:\n",
    "       return num1 / num2\n",
    "    except (ZeroDivisionError, ValueError):\n",
    "        print('There was either a Zero Division or Value Error')"
   ]
  },
  {
   "cell_type": "code",
   "execution_count": 10,
   "metadata": {},
   "outputs": [
    {
     "name": "stdout",
     "output_type": "stream",
     "text": [
      "There was either a Zero Division or Value Error\n"
     ]
    }
   ],
   "source": [
    "division_program(3,0)"
   ]
  },
  {
   "cell_type": "markdown",
   "metadata": {},
   "source": [
    "Expand your answer to the previous program so it prints the result only when no exceptions are raised. You should also print End of the program regardless of whether an exception is raised."
   ]
  },
  {
   "cell_type": "code",
   "execution_count": 18,
   "metadata": {},
   "outputs": [],
   "source": [
    "def division_program(num1, num2):\n",
    "    try:\n",
    "       the_result = num1 / num2\n",
    "    except (ZeroDivisionError, ValueError):\n",
    "        print('There was either a Zero Division or Value Error')\n",
    "    else:\n",
    "        print(f'The result of the division is {the_result}')\n",
    "        return the_result\n",
    "        \n",
    "    finally:\n",
    "        print(f'End of the program using {num1} divided by {num2}')"
   ]
  },
  {
   "cell_type": "code",
   "execution_count": 19,
   "metadata": {},
   "outputs": [
    {
     "name": "stdout",
     "output_type": "stream",
     "text": [
      "There was either a Zero Division or Value Error\n",
      "End of the program using 3 divided by 0\n"
     ]
    }
   ],
   "source": [
    "division_program(3,0)"
   ]
  },
  {
   "cell_type": "code",
   "execution_count": 22,
   "metadata": {},
   "outputs": [
    {
     "name": "stdout",
     "output_type": "stream",
     "text": [
      "The result of the division is 14.833333333333334\n",
      "End of the program using 89 divided by 6\n"
     ]
    },
    {
     "data": {
      "text/plain": [
       "14.833333333333334"
      ]
     },
     "execution_count": 22,
     "metadata": {},
     "output_type": "execute_result"
    }
   ],
   "source": [
    "division_program(89,6)"
   ]
  },
  {
   "cell_type": "markdown",
   "metadata": {},
   "source": [
    "Modify your answer to the previous problem so it handles both ZeroDivisionError and ValueError with a single exception handler. The output for both exception types can be obtained from the exception object."
   ]
  },
  {
   "cell_type": "code",
   "execution_count": 23,
   "metadata": {},
   "outputs": [],
   "source": [
    "def division_program(num1, num2):\n",
    "    try:\n",
    "       the_result = num1 / num2\n",
    "    except (ZeroDivisionError, ValueError) as e:\n",
    "        print('There was either a Zero Division or Value Error')\n",
    "        print(e)\n",
    "    else:\n",
    "        print(f'The result of the division is {the_result}')\n",
    "        return the_result\n",
    "        \n",
    "    finally:\n",
    "        print(f'End of the program using {num1} divided by {num2}')"
   ]
  },
  {
   "cell_type": "code",
   "execution_count": 24,
   "metadata": {},
   "outputs": [
    {
     "name": "stdout",
     "output_type": "stream",
     "text": [
      "There was either a Zero Division or Value Error\n",
      "division by zero\n",
      "End of the program using 3 divided by 0\n"
     ]
    }
   ],
   "source": [
    "division_program(3,0)"
   ]
  },
  {
   "cell_type": "markdown",
   "metadata": {},
   "source": [
    "Write a program that asks the user for a number. If the input isn't a number, let Python raise an appropriate exception. If the number is negative, raise a ValueError with an appropriate error message. If the number isn't negative, print a message that shows its value."
   ]
  },
  {
   "cell_type": "code",
   "execution_count": 33,
   "metadata": {},
   "outputs": [],
   "source": [
    "def number_ask():\n",
    "    num_input = input('Please enter a number: ')\n",
    "\n",
    "    num = float(num_input)\n",
    "\n",
    "    if num < 0:\n",
    "        raise ValueError('The number is negative!')\n",
    "    else: \n",
    "        print(f'your number is {num}.')\n",
    "    \n"
   ]
  },
  {
   "cell_type": "code",
   "execution_count": 34,
   "metadata": {},
   "outputs": [
    {
     "name": "stdout",
     "output_type": "stream",
     "text": [
      "your number is 89732.332.\n"
     ]
    }
   ],
   "source": [
    "number_ask()"
   ]
  },
  {
   "cell_type": "markdown",
   "metadata": {},
   "source": [
    "Modify your answer from the previous problem to raise a custom exception named NegativeNumberError instead of an ordinary ValueError exception."
   ]
  },
  {
   "cell_type": "code",
   "execution_count": 39,
   "metadata": {},
   "outputs": [],
   "source": [
    "class NegativeNumberError(ValueError):\n",
    "    def __init__(self, message = 'The number is negative!'):\n",
    "        super().__init__(message)\n",
    "\n",
    "def number_ask():\n",
    "    num_input = input('Please enter a number: ')\n",
    "\n",
    "    num = float(num_input)\n",
    "\n",
    "    if num < 0:\n",
    "        raise NegativeNumberError\n",
    "    else: \n",
    "        print(f'your number is {num}.')\n",
    "    \n"
   ]
  },
  {
   "cell_type": "code",
   "execution_count": 40,
   "metadata": {},
   "outputs": [
    {
     "ename": "NegativeNumberError",
     "evalue": "The number is negative!",
     "output_type": "error",
     "traceback": [
      "\u001b[0;31m---------------------------------------------------------------------------\u001b[0m",
      "\u001b[0;31mNegativeNumberError\u001b[0m                       Traceback (most recent call last)",
      "Cell \u001b[0;32mIn[40], line 1\u001b[0m\n\u001b[0;32m----> 1\u001b[0m \u001b[43mnumber_ask\u001b[49m\u001b[43m(\u001b[49m\u001b[43m)\u001b[49m\n",
      "Cell \u001b[0;32mIn[39], line 11\u001b[0m, in \u001b[0;36mnumber_ask\u001b[0;34m()\u001b[0m\n\u001b[1;32m      8\u001b[0m num \u001b[38;5;241m=\u001b[39m \u001b[38;5;28mfloat\u001b[39m(num_input)\n\u001b[1;32m     10\u001b[0m \u001b[38;5;28;01mif\u001b[39;00m num \u001b[38;5;241m<\u001b[39m \u001b[38;5;241m0\u001b[39m:\n\u001b[0;32m---> 11\u001b[0m     \u001b[38;5;28;01mraise\u001b[39;00m NegativeNumberError\n\u001b[1;32m     12\u001b[0m \u001b[38;5;28;01melse\u001b[39;00m: \n\u001b[1;32m     13\u001b[0m     \u001b[38;5;28mprint\u001b[39m(\u001b[38;5;124mf\u001b[39m\u001b[38;5;124m'\u001b[39m\u001b[38;5;124myour number is \u001b[39m\u001b[38;5;132;01m{\u001b[39;00mnum\u001b[38;5;132;01m}\u001b[39;00m\u001b[38;5;124m.\u001b[39m\u001b[38;5;124m'\u001b[39m)\n",
      "\u001b[0;31mNegativeNumberError\u001b[0m: The number is negative!"
     ]
    }
   ],
   "source": [
    "number_ask()"
   ]
  },
  {
   "cell_type": "markdown",
   "metadata": {},
   "source": [
    "Write a function that takes a list of numbers and returns the inverse of each number (if n is a number, then 1 / n is its inverse). Handle any exceptions that might occur."
   ]
  },
  {
   "cell_type": "code",
   "execution_count": 69,
   "metadata": {},
   "outputs": [],
   "source": [
    "def num_inverse(number_list):\n",
    "    inverse_list = []\n",
    "\n",
    "    for num in number_list:\n",
    "        try:\n",
    "            inverse = 1 / num\n",
    "        except (TypeError, ZeroDivisionError) as e:\n",
    "            inverse = f'{e}'\n",
    "        \n",
    "        inverse_list.append(inverse)\n",
    "            \n",
    "    return inverse_list\n"
   ]
  },
  {
   "cell_type": "code",
   "execution_count": 70,
   "metadata": {},
   "outputs": [
    {
     "data": {
      "text/plain": [
       "[0.5,\n",
       " 'division by zero',\n",
       " -0.3333333333333333,\n",
       " 0.1111111111111111,\n",
       " 0.25,\n",
       " \"unsupported operand type(s) for /: 'int' and 'str'\",\n",
       " 0.010101010101010102]"
      ]
     },
     "execution_count": 70,
     "metadata": {},
     "output_type": "execute_result"
    }
   ],
   "source": [
    "my_list = [2, 0, -3, 9, 4, 'spw', 99]\n",
    "\n",
    "num_inverse(my_list)"
   ]
  },
  {
   "cell_type": "markdown",
   "metadata": {},
   "source": [
    "Given the following global dictionary:"
   ]
  },
  {
   "cell_type": "code",
   "execution_count": 71,
   "metadata": {},
   "outputs": [],
   "source": [
    "students = {'John': 25, 'Jane': 22, 'Doe': 30}"
   ]
  },
  {
   "cell_type": "markdown",
   "metadata": {},
   "source": [
    "Write a Python function get_age(name) that takes a student's name as an argument and returns their age. If the student's name isn't in the dictionary, the function should return 'Student not found'."
   ]
  },
  {
   "cell_type": "code",
   "execution_count": 78,
   "metadata": {},
   "outputs": [],
   "source": [
    "def get_age(name):\n",
    "    try:\n",
    "        return students[name]\n",
    "    except KeyError:\n",
    "        print('Student not found.')\n"
   ]
  },
  {
   "cell_type": "code",
   "execution_count": 80,
   "metadata": {},
   "outputs": [
    {
     "name": "stdout",
     "output_type": "stream",
     "text": [
      "Student not found.\n"
     ]
    }
   ],
   "source": [
    "get_age('Sofia')"
   ]
  },
  {
   "cell_type": "code",
   "execution_count": 81,
   "metadata": {},
   "outputs": [],
   "source": [
    "numbers = [1, 2, 3, 4, 5]"
   ]
  },
  {
   "cell_type": "markdown",
   "metadata": {},
   "source": [
    "Write two functions to fetch the sixth element from the list: one using the LBYL approach and another using the AFNP approach. In both cases, the function should return None when the element isn't found."
   ]
  },
  {
   "cell_type": "code",
   "execution_count": 82,
   "metadata": {},
   "outputs": [],
   "source": [
    "def lbyl(num_list):\n",
    "    if len(num_list) < 6:\n",
    "        return None\n",
    "    else:\n",
    "        return num_list[5]\n",
    "    \n",
    "def afnp(num_list):\n",
    "    try:\n",
    "        return num_list[5]\n",
    "    except IndexError:\n",
    "        return None\n"
   ]
  },
  {
   "cell_type": "code",
   "execution_count": 83,
   "metadata": {},
   "outputs": [
    {
     "name": "stdout",
     "output_type": "stream",
     "text": [
      "None\n",
      "None\n"
     ]
    }
   ],
   "source": [
    "print(lbyl(numbers))\n",
    "print(afnp(numbers))"
   ]
  }
 ],
 "metadata": {
  "kernelspec": {
   "display_name": "Python 3",
   "language": "python",
   "name": "python3"
  },
  "language_info": {
   "codemirror_mode": {
    "name": "ipython",
    "version": 3
   },
   "file_extension": ".py",
   "mimetype": "text/x-python",
   "name": "python",
   "nbconvert_exporter": "python",
   "pygments_lexer": "ipython3",
   "version": "3.12.5"
  }
 },
 "nbformat": 4,
 "nbformat_minor": 2
}

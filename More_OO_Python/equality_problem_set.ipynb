{
 "cells": [
  {
   "cell_type": "code",
   "execution_count": null,
   "metadata": {},
   "outputs": [],
   "source": [
    "# Name the method used to customize each of the following operators:\n",
    "\n",
    "Operator\n",
    "- > # __gt__\n",
    "- * # __mul__\n",
    "- <= # __le__\n",
    "- != # __ne__\n",
    "- += # __iadd__\n",
    "- **= # __ipow__\n",
    "- // # __floordiv__"
   ]
  },
  {
   "cell_type": "code",
   "execution_count": 1,
   "metadata": {},
   "outputs": [],
   "source": [
    "class Cat:\n",
    "    def __init__(self, name):\n",
    "        self.name = name"
   ]
  },
  {
   "cell_type": "markdown",
   "metadata": {},
   "source": [
    "Create the methods needed so you can compare Cat objects for equality and inequality by their name value. The comparisons should ignore case and should work for the == and !=operators. If the right-hand operand is not a Cat object, the methods should return NotImplemented.\n",
    "\n",
    "Be sure to write test cases to demonstrate that your methods work as intended."
   ]
  },
  {
   "cell_type": "code",
   "execution_count": 28,
   "metadata": {},
   "outputs": [],
   "source": [
    "class Cat:\n",
    "    def __init__(self, name):\n",
    "        self.name = name\n",
    "\n",
    "    def __eq__(self, other):\n",
    "        if not isinstance(other, Cat):\n",
    "            return NotImplemented\n",
    "        \n",
    "        return self.name.casefold() == other.name.casefold()\n",
    "    \n",
    "    def __ne__(self, other):\n",
    "        if not isinstance(other, Cat):\n",
    "            return NotImplemented\n",
    "        \n",
    "        return self.name.casefold() != other.name.casefold()\n",
    "\n",
    "    def __gt__(self, other):\n",
    "        if not isinstance(other, Cat):\n",
    "            return NotImplemented\n",
    "        \n",
    "        return self.name.casefold() > other.name.casefold()\n",
    "    \n",
    "    def __lt__(self, other):\n",
    "        if not isinstance(other, Cat):\n",
    "            return NotImplemented\n",
    "        \n",
    "        return self.name.casefold() < other.name.casefold()\n",
    "    \n",
    "    def __le__(self, other):\n",
    "        if not isinstance(other, Cat):\n",
    "            return NotImplemented\n",
    "        \n",
    "        return self.name.casefold() <= other.name.casefold()\n",
    "    \n",
    "    def __ge__(self, other):\n",
    "        if not isinstance(other, Cat):\n",
    "            return NotImplemented\n",
    "        \n",
    "        return self.name.casefold() >= other.name.casefold()\n",
    "\n"
   ]
  },
  {
   "cell_type": "code",
   "execution_count": 33,
   "metadata": {},
   "outputs": [
    {
     "data": {
      "text/plain": [
       "False"
      ]
     },
     "execution_count": 33,
     "metadata": {},
     "output_type": "execute_result"
    }
   ],
   "source": [
    "sofia = Cat(\"abc4\")\n",
    "gabe = Cat(\"abc3\")\n",
    "\n",
    "gabe >= sofia"
   ]
  },
  {
   "cell_type": "markdown",
   "metadata": {},
   "source": [
    "Consider the following class that represents 2D vectors:"
   ]
  },
  {
   "cell_type": "code",
   "execution_count": 34,
   "metadata": {},
   "outputs": [
    {
     "ename": "TypeError",
     "evalue": "unsupported operand type(s) for +: 'Vector' and 'Vector'",
     "output_type": "error",
     "traceback": [
      "\u001b[0;31m---------------------------------------------------------------------------\u001b[0m",
      "\u001b[0;31mTypeError\u001b[0m                                 Traceback (most recent call last)",
      "Cell \u001b[0;32mIn[34], line 9\u001b[0m\n\u001b[1;32m      6\u001b[0m     \u001b[38;5;28;01mdef\u001b[39;00m \u001b[38;5;21m__str__\u001b[39m(\u001b[38;5;28mself\u001b[39m):\n\u001b[1;32m      7\u001b[0m         \u001b[38;5;28;01mreturn\u001b[39;00m \u001b[38;5;124mf\u001b[39m\u001b[38;5;124m'\u001b[39m\u001b[38;5;124mVector(\u001b[39m\u001b[38;5;132;01m{\u001b[39;00m\u001b[38;5;28mself\u001b[39m\u001b[38;5;241m.\u001b[39mx\u001b[38;5;132;01m}\u001b[39;00m\u001b[38;5;124m, \u001b[39m\u001b[38;5;132;01m{\u001b[39;00m\u001b[38;5;28mself\u001b[39m\u001b[38;5;241m.\u001b[39my\u001b[38;5;132;01m}\u001b[39;00m\u001b[38;5;124m)\u001b[39m\u001b[38;5;124m'\u001b[39m\n\u001b[0;32m----> 9\u001b[0m \u001b[38;5;28mprint\u001b[39m(\u001b[43mVector\u001b[49m\u001b[43m(\u001b[49m\u001b[38;5;241;43m3\u001b[39;49m\u001b[43m,\u001b[49m\u001b[43m \u001b[49m\u001b[38;5;241;43m2\u001b[39;49m\u001b[43m)\u001b[49m\u001b[43m \u001b[49m\u001b[38;5;241;43m+\u001b[39;49m\u001b[43m \u001b[49m\u001b[43mVector\u001b[49m\u001b[43m(\u001b[49m\u001b[38;5;241;43m5\u001b[39;49m\u001b[43m,\u001b[49m\u001b[43m \u001b[49m\u001b[38;5;241;43m12\u001b[39;49m\u001b[43m)\u001b[49m)   \u001b[38;5;66;03m# Vector(8, 14)\u001b[39;00m\n\u001b[1;32m     10\u001b[0m \u001b[38;5;28mprint\u001b[39m(Vector(\u001b[38;5;241m5\u001b[39m, \u001b[38;5;241m12\u001b[39m) \u001b[38;5;241m-\u001b[39m Vector(\u001b[38;5;241m3\u001b[39m, \u001b[38;5;241m2\u001b[39m))   \u001b[38;5;66;03m# Vector(2, 10)\u001b[39;00m\n\u001b[1;32m     11\u001b[0m \u001b[38;5;28mprint\u001b[39m(Vector(\u001b[38;5;241m5\u001b[39m, \u001b[38;5;241m12\u001b[39m) \u001b[38;5;241m*\u001b[39m \u001b[38;5;241m2\u001b[39m)              \u001b[38;5;66;03m# Vector(10, 24)\u001b[39;00m\n",
      "\u001b[0;31mTypeError\u001b[0m: unsupported operand type(s) for +: 'Vector' and 'Vector'"
     ]
    }
   ],
   "source": [
    "class Vector:\n",
    "    def __init__(self, x, y):\n",
    "        self.x = x\n",
    "        self.y = y\n",
    "\n",
    "    def __str__(self):\n",
    "        return f'Vector({self.x}, {self.y})'\n",
    "    \n",
    "    def __add__(self, other):\n",
    "        if not isinstance(other, Vector):\n",
    "            return NotImplemented\n",
    "        \n",
    "        return Vector(self.x + other.x, self.y + other.y)\n",
    "\n",
    "\n",
    "print(Vector(3, 2) + Vector(5, 12))   # Vector(8, 14)\n",
    "print(Vector(5, 12) - Vector(3, 2))   # Vector(2, 10)\n",
    "print(Vector(5, 12) * 2)              # Vector(10, 24)\n",
    "print(3 * Vector(5, 12))              # Vector(15, 36)\n",
    "\n",
    "my_vector = Vector(5, 7)\n",
    "my_vector += Vector(3, 9)\n",
    "print(my_vector)                      # Vector(8, 16)\n",
    "\n",
    "my_vector -= Vector(1, 7)\n",
    "print(my_vector)                      # Vector(7, 9)\n",
    "\n",
    "print(Vector(3, 2) + 5)\n",
    "# TypeError: unsupported operand type(s) for +: 'Vector'\n",
    "# and 'int'"
   ]
  },
  {
   "cell_type": "code",
   "execution_count": 50,
   "metadata": {},
   "outputs": [
    {
     "name": "stdout",
     "output_type": "stream",
     "text": [
      "Vector(8, 14)\n",
      "Vector(2, 10)\n",
      "Vector(10, 24)\n",
      "Vector(15, 36)\n",
      "Vector(8, 16)\n",
      "Vector(7, 9)\n"
     ]
    },
    {
     "ename": "TypeError",
     "evalue": "unsupported operand type(s) for +: 'Vector' and 'int'",
     "output_type": "error",
     "traceback": [
      "\u001b[0;31m---------------------------------------------------------------------------\u001b[0m",
      "\u001b[0;31mTypeError\u001b[0m                                 Traceback (most recent call last)",
      "Cell \u001b[0;32mIn[50], line 63\u001b[0m\n\u001b[1;32m     60\u001b[0m my_vector \u001b[38;5;241m-\u001b[39m\u001b[38;5;241m=\u001b[39m Vector(\u001b[38;5;241m1\u001b[39m, \u001b[38;5;241m7\u001b[39m)\n\u001b[1;32m     61\u001b[0m \u001b[38;5;28mprint\u001b[39m(my_vector)                      \u001b[38;5;66;03m# Vector(7, 9)\u001b[39;00m\n\u001b[0;32m---> 63\u001b[0m \u001b[38;5;28mprint\u001b[39m(\u001b[43mVector\u001b[49m\u001b[43m(\u001b[49m\u001b[38;5;241;43m3\u001b[39;49m\u001b[43m,\u001b[49m\u001b[43m \u001b[49m\u001b[38;5;241;43m2\u001b[39;49m\u001b[43m)\u001b[49m\u001b[43m \u001b[49m\u001b[38;5;241;43m+\u001b[39;49m\u001b[43m \u001b[49m\u001b[38;5;241;43m5\u001b[39;49m)\n\u001b[1;32m     64\u001b[0m \u001b[38;5;66;03m# TypeError: unsupported operand type(s) for +: 'Vector'\u001b[39;00m\n\u001b[1;32m     65\u001b[0m \u001b[38;5;66;03m# and 'int'\u001b[39;00m\n",
      "\u001b[0;31mTypeError\u001b[0m: unsupported operand type(s) for +: 'Vector' and 'int'"
     ]
    }
   ],
   "source": [
    "class Vector:\n",
    "    def __init__(self, x, y):\n",
    "        self.x = x\n",
    "        self.y = y\n",
    "\n",
    "    def __str__(self):\n",
    "        return f'Vector({self.x}, {self.y})'\n",
    "    \n",
    "    def __add__(self, other):\n",
    "        if not isinstance(other, Vector):\n",
    "            return NotImplemented\n",
    "        \n",
    "        return Vector(self.x + other.x, self.y + other.y)\n",
    "    \n",
    "    def __sub__(self, other):\n",
    "        if not isinstance(other, Vector):\n",
    "            return NotImplemented\n",
    "        \n",
    "        return Vector(self.x - other.x, self.y - other.y)\n",
    "    \n",
    "    def __mul__(self, integer):\n",
    "        if not isinstance(integer, int):\n",
    "            return NotImplemented\n",
    "        \n",
    "        return Vector(self.x * integer, self.y * integer)\n",
    "    \n",
    "    def __rmul__(self, integer):\n",
    "        if not isinstance(integer, int):\n",
    "            return NotImplemented\n",
    "        \n",
    "        return Vector(self.x * integer, self.y * integer)\n",
    "    \n",
    "    def __iadd__(self, other):\n",
    "        if not isinstance(other, Vector):\n",
    "            return NotImplemented\n",
    "        \n",
    "        self.x += other.x\n",
    "        self.y += other.y\n",
    "\n",
    "        return self\n",
    "    \n",
    "    def __isub__(self, other):\n",
    "        if not isinstance(other, Vector):\n",
    "            return NotImplemented\n",
    "        \n",
    "        self.x -= other.x\n",
    "        self.y -= other.y\n",
    "\n",
    "        return self\n",
    "    \n",
    "print(Vector(3, 2) + Vector(5, 12))   # Vector(8, 14)\n",
    "print(Vector(5, 12) - Vector(3, 2))   # Vector(2, 10)\n",
    "print(Vector(5, 12) * 2)              # Vector(10, 24)\n",
    "print(3 * Vector(5, 12))              # Vector(15, 36)\n",
    "\n",
    "my_vector = Vector(5, 7)\n",
    "my_vector += Vector(3, 9)\n",
    "print(my_vector)                      # Vector(8, 16)\n",
    "\n",
    "my_vector -= Vector(1, 7)\n",
    "print(my_vector)                      # Vector(7, 9)\n",
    "\n",
    "print(Vector(3, 2) + 5)\n",
    "# TypeError: unsupported operand type(s) for +: 'Vector'\n",
    "# and 'int'"
   ]
  },
  {
   "cell_type": "code",
   "execution_count": 53,
   "metadata": {},
   "outputs": [
    {
     "name": "stdout",
     "output_type": "stream",
     "text": [
      "Silly('abcdef')\n",
      "Silly('abc123')\n",
      "Silly('123xyz')\n",
      "Silly(456)\n",
      "Silly(345)\n",
      "Silly(579)\n",
      "Silly(579)\n"
     ]
    }
   ],
   "source": [
    "class Silly:\n",
    "    def __init__(self, value):\n",
    "        if isinstance(value, int):\n",
    "            self.value = value\n",
    "        else:\n",
    "            self.value = str(value)\n",
    "\n",
    "    def __str__(self):\n",
    "        return f'Silly({repr(self.value)})'\n",
    "    \n",
    "    def __add__(self, other):\n",
    "        if isinstance(self.value, int) or self.value.isdigit():\n",
    "            if isinstance(other, int) or other.isdigit():\n",
    "                return Silly(int(self.value) + int(other))\n",
    "        \n",
    "        return Silly(str(self.value) + str(other))\n",
    "\n",
    "print(Silly('abc') + 'def')        # Silly('abcdef')\n",
    "print(Silly('abc') + 123)          # Silly('abc123')\n",
    "print(Silly(123) + 'xyz')          # Silly('123xyz')\n",
    "print(Silly('333') + 123)          # Silly(456)\n",
    "print(Silly(123) + '222')          # Silly(345)\n",
    "print(Silly(123) + 456)            # Silly(579)\n",
    "print(Silly('123') + '456')        # Silly(579)"
   ]
  },
  {
   "cell_type": "markdown",
   "metadata": {},
   "source": []
  },
  {
   "cell_type": "code",
   "execution_count": 60,
   "metadata": {},
   "outputs": [
    {
     "name": "stdout",
     "output_type": "stream",
     "text": [
      "set\n",
      "got\n",
      "blue\n",
      "got\n",
      "The lamp glows blue.\n",
      "set\n",
      "got\n",
      "red\n",
      "got\n",
      "The lamp glows red.\n"
     ]
    }
   ],
   "source": [
    "class SmartLamp:\n",
    "    def __init__(self, color):\n",
    "        self.color = color\n",
    "\n",
    "    def glow(self):\n",
    "        return (f'The lamp glows {self.color}.')\n",
    "\n",
    "    @property\n",
    "    def color(self):                    # Getter for _color\n",
    "        print('got')\n",
    "        return self._color\n",
    "    \n",
    "\n",
    "    @color.setter\n",
    "    def color(self, color):             # Setter for _color\n",
    "        if not isinstance(color, str):\n",
    "            raise TypeError('Color must be a color name.')\n",
    "\n",
    "        self._color = color\n",
    "        print('set')\n",
    "\n",
    "lamp = SmartLamp('blue')\n",
    "print(lamp.color)                       # blue\n",
    "print(lamp.glow())                      # The lamp glows blue.\n",
    "\n",
    "lamp.color = 'red'\n",
    "print(lamp.color)                       # red\n",
    "print(lamp.glow())                      # The lamp glows red.\n",
    "\n"
   ]
  }
 ],
 "metadata": {
  "kernelspec": {
   "display_name": "Python 3",
   "language": "python",
   "name": "python3"
  },
  "language_info": {
   "codemirror_mode": {
    "name": "ipython",
    "version": 3
   },
   "file_extension": ".py",
   "mimetype": "text/x-python",
   "name": "python",
   "nbconvert_exporter": "python",
   "pygments_lexer": "ipython3",
   "version": "3.12.5"
  }
 },
 "nbformat": 4,
 "nbformat_minor": 2
}

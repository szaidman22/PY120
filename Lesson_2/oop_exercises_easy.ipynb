{
 "cells": [
  {
   "cell_type": "markdown",
   "metadata": {},
   "source": [
    "Behold this incomplete class for constructing boxed banners:"
   ]
  },
  {
   "cell_type": "code",
   "execution_count": 9,
   "metadata": {},
   "outputs": [],
   "source": [
    "class Banner:\n",
    "    def __init__(self, message):\n",
    "        self.message = message\n",
    "\n",
    "    def __str__(self):\n",
    "        return \"\\n\".join([self._horizontal_rule(),\n",
    "                          self._empty_line(),\n",
    "                          self._message_line(),\n",
    "                          self._empty_line(),\n",
    "                          self._horizontal_rule()])\n",
    "\n",
    "    def _empty_line(self):\n",
    "        return f\"| {\" \" * len(self.message)} |\"\n",
    "\n",
    "    def _horizontal_rule(self):\n",
    "        return f\"+{\"-\" * (len(self.message) + 2)}+\"\n",
    "\n",
    "    def _message_line(self):\n",
    "        return f\"| {self.message} |\"\n",
    "\n"
   ]
  },
  {
   "cell_type": "code",
   "execution_count": 10,
   "metadata": {},
   "outputs": [
    {
     "name": "stdout",
     "output_type": "stream",
     "text": [
      "+--------------------------------------------+\n",
      "|                                            |\n",
      "| To boldly go where no one has gone before. |\n",
      "|                                            |\n",
      "+--------------------------------------------+\n"
     ]
    }
   ],
   "source": [
    "banner = Banner('To boldly go where no one has gone before.')\n",
    "print(banner)"
   ]
  },
  {
   "cell_type": "markdown",
   "metadata": {},
   "source": [
    "Complete this class so that the test cases shown below work as intended. You are free to add any methods or instance variables you need. However, methods prefixed with an underscore are intended for internal use and should not be called externally.\n",
    "\n",
    "You may assume that the input will always fit in your terminal window."
   ]
  },
  {
   "cell_type": "code",
   "execution_count": 11,
   "metadata": {},
   "outputs": [
    {
     "name": "stdout",
     "output_type": "stream",
     "text": [
      "+--------------------------------------------+\n",
      "|                                            |\n",
      "| To boldly go where no one has gone before. |\n",
      "|                                            |\n",
      "+--------------------------------------------+\n",
      "+--+\n",
      "|  |\n",
      "|  |\n",
      "|  |\n",
      "+--+\n"
     ]
    }
   ],
   "source": [
    "# Comments show expected output\n",
    "\n",
    "banner = Banner('To boldly go where no one has gone before.')\n",
    "print(banner)\n",
    "# +--------------------------------------------+\n",
    "# |                                            |\n",
    "# | To boldly go where no one has gone before. |\n",
    "# |                                            |\n",
    "# +--------------------------------------------+\n",
    "\n",
    "banner = Banner('')\n",
    "print(banner)\n",
    "# +--+\n",
    "# |  |\n",
    "# |  |\n",
    "# |  |\n",
    "# +--+"
   ]
  },
  {
   "cell_type": "markdown",
   "metadata": {},
   "source": [
    "Create a Rectangle class whose initializer takes two arguments that represent the rectangle's width and height, respectively. Use the following code to test your solution:"
   ]
  },
  {
   "cell_type": "code",
   "execution_count": 31,
   "metadata": {},
   "outputs": [],
   "source": [
    "class Rectangle:\n",
    "    def __init__(self, width, height):\n",
    "        self._width = width\n",
    "        self._height = height\n",
    "\n",
    "    @property\n",
    "    def width(self):\n",
    "        return self._width\n",
    "    \n",
    "    @property\n",
    "    def height(self):\n",
    "        return self._height\n",
    "    \n",
    "    @property\n",
    "    def area(self):\n",
    "        return self._width * self._height"
   ]
  },
  {
   "cell_type": "code",
   "execution_count": 32,
   "metadata": {},
   "outputs": [
    {
     "name": "stdout",
     "output_type": "stream",
     "text": [
      "True\n",
      "True\n",
      "True\n"
     ]
    }
   ],
   "source": [
    "rect = Rectangle(4, 5)\n",
    "\n",
    "print(rect.width == 4)        # True\n",
    "print(rect.height == 5)       # True\n",
    "print(rect.area == 20)        # True"
   ]
  },
  {
   "cell_type": "code",
   "execution_count": 33,
   "metadata": {},
   "outputs": [
    {
     "data": {
      "text/plain": [
       "20"
      ]
     },
     "execution_count": 33,
     "metadata": {},
     "output_type": "execute_result"
    }
   ],
   "source": [
    "rect.area"
   ]
  },
  {
   "cell_type": "markdown",
   "metadata": {},
   "source": [
    "Write a class called Square that inherits from the Rectangle class. The Square class is used like this:"
   ]
  },
  {
   "cell_type": "code",
   "execution_count": 44,
   "metadata": {},
   "outputs": [],
   "source": [
    "class Square(Rectangle):\n",
    "    def __init__(self, side):\n",
    "        super().__init__(side, side)\n"
   ]
  },
  {
   "cell_type": "code",
   "execution_count": 47,
   "metadata": {},
   "outputs": [
    {
     "name": "stdout",
     "output_type": "stream",
     "text": [
      "True\n"
     ]
    }
   ],
   "source": [
    "square = Square(5)\n",
    "print(square.area == 25)      # True"
   ]
  },
  {
   "cell_type": "markdown",
   "metadata": {},
   "source": [
    "Consider the following program."
   ]
  },
  {
   "cell_type": "code",
   "execution_count": 54,
   "metadata": {},
   "outputs": [
    {
     "name": "stdout",
     "output_type": "stream",
     "text": [
      "My Pet Cocoa is 3 years old and has black fur.\n",
      "My Pet Cheddar is 4 years old and has yellow and white fur.\n"
     ]
    }
   ],
   "source": [
    "class Pet:\n",
    "    def __init__(self, name, age):\n",
    "        self._name = name\n",
    "        self._age = age\n",
    "\n",
    "    @property\n",
    "    def name(self):\n",
    "        return self._name\n",
    "\n",
    "    @property\n",
    "    def age(self):\n",
    "        return self._age\n",
    "    \n",
    "    @property\n",
    "    def info(self):\n",
    "        return f\"My {__class__.__name__} {self.name} is {self.age} years old.\"\n",
    "\n",
    "class Cat(Pet):\n",
    "    def __init__(self, name, age, fur):\n",
    "        super().__init__(name, age)\n",
    "        self._fur = fur\n",
    "\n",
    "    @property\n",
    "    def fur(self):\n",
    "        return self._fur\n",
    "    \n",
    "    @property\n",
    "    def info(self):\n",
    "       return super().info[:-1] + f\" and has {self.fur} fur.\"\n",
    "\n",
    "cocoa = Cat('Cocoa', 3, 'black')\n",
    "cheddar = Cat('Cheddar', 4, 'yellow and white')\n",
    "\n",
    "print(cocoa.info)\n",
    "print(cheddar.info)"
   ]
  },
  {
   "cell_type": "markdown",
   "metadata": {},
   "source": [
    "Update this code so you see the following output when you run the code:\n",
    "\n",
    "My cat Cocoa is 3 years old and has black fur.\n",
    "\n",
    "My cat Cheddar is 4 years old and has yellow and white fur."
   ]
  },
  {
   "cell_type": "markdown",
   "metadata": {},
   "source": [
    "Given the following Animal class, create two more classes, Cat and Dog, that inherit from it:"
   ]
  },
  {
   "cell_type": "code",
   "execution_count": 55,
   "metadata": {},
   "outputs": [],
   "source": [
    "class Animal:\n",
    "    def __init__(self, name, age, legs, species, status):\n",
    "        self.name = name\n",
    "        self.age = age\n",
    "        self.legs = legs\n",
    "        self.species = species\n",
    "        self.status = status\n",
    "\n",
    "    def introduce(self):\n",
    "        return (f\"Hello, my name is {self.name} and I am \"\n",
    "                f\"{self.age} years old and {self.status}.\")"
   ]
  },
  {
   "cell_type": "markdown",
   "metadata": {},
   "source": [
    "The Cat initializer should accept 3 parameters: name, age, and status. Cats should always have a leg count of 4 and a species of \"cat\". The introduce method for the Cat class should return a string identical to the base class with an added Meow meow! at the end. For example:"
   ]
  },
  {
   "cell_type": "code",
   "execution_count": 58,
   "metadata": {},
   "outputs": [],
   "source": [
    "class Cat(Animal):\n",
    "    def __init__(self, name, age, status):\n",
    "        super().__init__(name, age, 4, \"cat\", status)\n",
    "\n",
    "    def introduce(self):\n",
    "        return super().introduce() + \" Meow meow!\""
   ]
  },
  {
   "cell_type": "code",
   "execution_count": 59,
   "metadata": {},
   "outputs": [
    {
     "name": "stdout",
     "output_type": "stream",
     "text": [
      "True\n"
     ]
    }
   ],
   "source": [
    "cat = Cat(\"Pepe\", 4, \"happy\")\n",
    "expected = (\"Hello, my name is Pepe and I am 4 years old \"\n",
    "            \"and happy. Meow meow!\")\n",
    "print(cat.introduce() == expected)      # True"
   ]
  },
  {
   "cell_type": "markdown",
   "metadata": {},
   "source": [
    "The Dog initializer should accept 4 parameters: name, age, status, and owner. Dogs should always have a leg count of 4 and a species of \"dog\". In addition to the methods inherited from Animal, the Dog class should have a greet_owner method that returns a greeting to its owner followed by Woof! Woof!. The introduce method for the Dog class should return a string identical to the base class with an added Woof! Woof! at the end."
   ]
  },
  {
   "cell_type": "code",
   "execution_count": 60,
   "metadata": {},
   "outputs": [],
   "source": [
    "class Dog(Animal):\n",
    "    def __init__(self, name, age, status, owner):\n",
    "        super().__init__(name, age, 4, \"dog\", status)\n",
    "        self.owner = owner\n",
    "\n",
    "    def introduce(self):\n",
    "        return super().introduce() + \" Woof! Woof!\"\n",
    "\n",
    "    def greet_owner(self):\n",
    "        return f\"Hi {self.owner}! Woof! Woof!\""
   ]
  },
  {
   "cell_type": "code",
   "execution_count": 61,
   "metadata": {},
   "outputs": [
    {
     "name": "stdout",
     "output_type": "stream",
     "text": [
      "True\n",
      "True\n"
     ]
    }
   ],
   "source": [
    "dog = Dog(\"Bobo\", 9, \"hungry\", \"Daddy\")\n",
    "expected = (\"Hello, my name is Bobo and I am 9 years old \"\n",
    "            \"and hungry. Woof! Woof!\")\n",
    "print(dog.introduce() == expected)                  # True\n",
    "print(dog.greet_owner() == \"Hi Daddy! Woof! Woof!\") # True"
   ]
  },
  {
   "cell_type": "markdown",
   "metadata": {},
   "source": [
    "Consider the following code:"
   ]
  },
  {
   "cell_type": "code",
   "execution_count": null,
   "metadata": {},
   "outputs": [],
   "source": [
    "cocoa   = Pet('cat', 'Cocoa')\n",
    "cheddar = Pet('cat', 'Cheddar')\n",
    "darwin  = Pet('bearded dragon', 'Darwin')\n",
    "kennedy = Pet('dog', 'Kennedy')\n",
    "sweetie = Pet('parakeet', 'Sweetie Pie')\n",
    "molly   = Pet('dog', 'Molly')\n",
    "chester = Pet('fish', 'Chester')\n",
    "\n",
    "phanson = Owner('P Hanson')\n",
    "bholmes = Owner('B Holmes')\n",
    "\n",
    "shelter = Shelter()\n",
    "shelter.adopt(phanson, cocoa)\n",
    "shelter.adopt(phanson, cheddar)\n",
    "shelter.adopt(phanson, darwin)\n",
    "shelter.adopt(bholmes, kennedy)\n",
    "shelter.adopt(bholmes, sweetie)\n",
    "shelter.adopt(bholmes, molly)\n",
    "shelter.adopt(bholmes, chester)\n",
    "\n",
    "shelter.print_adoptions()\n",
    "print(f\"{phanson.name} has {phanson.number_of_pets()} \"\n",
    "      \"adopted pets.\")\n",
    "print(f\"{bholmes.name} has {bholmes.number_of_pets()} \"\n",
    "      \"adopted pets.\")"
   ]
  },
  {
   "cell_type": "code",
   "execution_count": 120,
   "metadata": {},
   "outputs": [],
   "source": [
    "class Pet:\n",
    "    def __init__(self, species, name):\n",
    "        self._species = species\n",
    "        self._name = name\n",
    "\n",
    "    @property\n",
    "    def species(self):\n",
    "        return self._species\n",
    "    \n",
    "    @property\n",
    "    def name(self):\n",
    "        return self._name\n",
    "    \n",
    "class Owner:\n",
    "    def __init__(self, name):\n",
    "        self._name = name\n",
    "        self.pet_list = []\n",
    "\n",
    "    @property\n",
    "    def name(self):\n",
    "        return self._name\n",
    "    \n",
    "    def number_of_pets(self):\n",
    "        return len(self.pet_list)\n",
    "    \n",
    "class Shelter:\n",
    "    def __init__(self):\n",
    "        self.owners = {}\n",
    "        self.unadopted = set()\n",
    "\n",
    "    def adopt(self, owner, pet):\n",
    "        if pet in self.unadopted:\n",
    "            self.unadopted.remove(pet)\n",
    "\n",
    "        owner.pet_list.append(pet)\n",
    "        self.owners[owner] = owner.pet_list\n",
    "\n",
    "    def print_adoptions(self):\n",
    "        if self.unadopted:\n",
    "            print(\"The Animal Shelter has the following unadopted pets:\")\n",
    "            for pet in self.unadopted:\n",
    "                print(f\"a {pet.species} named {pet.name}\")\n",
    "            print(\"\")\n",
    "        for owner in self.owners:\n",
    "            print(f\"{owner.name} has adopted the following pets:\")\n",
    "            for pet in owner.pet_list:\n",
    "                print(f\"a {pet.species} named {pet.name}\")\n",
    "            print(\"\")\n",
    "\n",
    "    def intake(self, pet):\n",
    "        self.unadopted.add(pet)\n",
    "        "
   ]
  },
  {
   "cell_type": "code",
   "execution_count": 121,
   "metadata": {},
   "outputs": [],
   "source": [
    "cocoa   = Pet('cat', 'Cocoa')\n",
    "cheddar = Pet('cat', 'Cheddar')\n",
    "darwin  = Pet('bearded dragon', 'Darwin')\n",
    "kennedy = Pet('dog', 'Kennedy')\n",
    "sweetie = Pet('parakeet', 'Sweetie Pie')\n",
    "molly   = Pet('dog', 'Molly')\n",
    "chester = Pet('fish', 'Chester')"
   ]
  },
  {
   "cell_type": "code",
   "execution_count": 122,
   "metadata": {},
   "outputs": [],
   "source": [
    "phanson = Owner('P Hanson')\n",
    "bholmes = Owner('B Holmes')"
   ]
  },
  {
   "cell_type": "code",
   "execution_count": 123,
   "metadata": {},
   "outputs": [],
   "source": [
    "shelter = Shelter()\n",
    "shelter.adopt(phanson, cocoa)\n",
    "shelter.adopt(phanson, cheddar)\n",
    "shelter.adopt(phanson, darwin)\n",
    "shelter.adopt(bholmes, kennedy)\n",
    "shelter.adopt(bholmes, sweetie)\n",
    "shelter.adopt(bholmes, molly)\n",
    "shelter.adopt(bholmes, chester)"
   ]
  },
  {
   "cell_type": "code",
   "execution_count": 124,
   "metadata": {},
   "outputs": [
    {
     "name": "stdout",
     "output_type": "stream",
     "text": [
      "P Hanson has adopted the following pets:\n",
      "a cat named Cocoa\n",
      "a cat named Cheddar\n",
      "a bearded dragon named Darwin\n",
      "\n",
      "B Holmes has adopted the following pets:\n",
      "a dog named Kennedy\n",
      "a parakeet named Sweetie Pie\n",
      "a dog named Molly\n",
      "a fish named Chester\n",
      "\n",
      "P Hanson has 3 adopted pets.\n",
      "B Holmes has 4 adopted pets.\n"
     ]
    }
   ],
   "source": [
    "shelter.print_adoptions()\n",
    "print(f\"{phanson.name} has {phanson.number_of_pets()} \"\n",
    "      \"adopted pets.\")\n",
    "print(f\"{bholmes.name} has {bholmes.number_of_pets()} \"\n",
    "      \"adopted pets.\")"
   ]
  },
  {
   "cell_type": "code",
   "execution_count": 125,
   "metadata": {},
   "outputs": [
    {
     "name": "stdout",
     "output_type": "stream",
     "text": [
      "The Animal Shelter has the following unadopted pets:\n",
      "a cat named Nala\n",
      "a dog named Daisy\n",
      "a cat named Charlie\n",
      "a parakeet named Tip\n",
      "\n",
      "P Hanson has adopted the following pets:\n",
      "a cat named Cocoa\n",
      "a cat named Cheddar\n",
      "a bearded dragon named Darwin\n",
      "\n",
      "B Holmes has adopted the following pets:\n",
      "a dog named Kennedy\n",
      "a parakeet named Sweetie Pie\n",
      "a dog named Molly\n",
      "a fish named Chester\n",
      "\n"
     ]
    }
   ],
   "source": [
    "charlie   = Pet('cat', 'Charlie')\n",
    "nala   = Pet('cat', 'Nala')\n",
    "daisy   = Pet('dog', 'Daisy')\n",
    "tip   = Pet('parakeet', 'Tip')\n",
    "\n",
    "shelter.intake(charlie)\n",
    "shelter.intake(nala)\n",
    "shelter.intake(daisy)\n",
    "shelter.intake(tip)\n",
    "\n",
    "shelter.print_adoptions()\n"
   ]
  },
  {
   "cell_type": "markdown",
   "metadata": {},
   "source": [
    "Write the classes and methods that will be necessary to make this code run, and log the following output:"
   ]
  },
  {
   "cell_type": "code",
   "execution_count": 62,
   "metadata": {},
   "outputs": [
    {
     "data": {
      "text/plain": [
       "'\\nP Hanson has adopted the following pets:\\na cat named Cocoa\\na cat named Cheddar\\na bearded dragon named Darwin\\n\\nB Holmes has adopted the following pets:\\na dog named Molly\\na parakeet named Sweetie Pie\\na dog named Kennedy\\na fish named Chester\\n\\nP Hanson has 3 adopted pets.\\nB Holmes has 4 adopted pets.\\n'"
      ]
     },
     "execution_count": 62,
     "metadata": {},
     "output_type": "execute_result"
    }
   ],
   "source": [
    "\"\"\"\n",
    "P Hanson has adopted the following pets:\n",
    "a cat named Cocoa\n",
    "a cat named Cheddar\n",
    "a bearded dragon named Darwin\n",
    "\n",
    "B Holmes has adopted the following pets:\n",
    "a dog named Molly\n",
    "a parakeet named Sweetie Pie\n",
    "a dog named Kennedy\n",
    "a fish named Chester\n",
    "\n",
    "P Hanson has 3 adopted pets.\n",
    "B Holmes has 4 adopted pets.\n",
    "\"\"\""
   ]
  },
  {
   "cell_type": "markdown",
   "metadata": {},
   "source": [
    "Consider the following classes:"
   ]
  },
  {
   "cell_type": "code",
   "execution_count": null,
   "metadata": {},
   "outputs": [],
   "source": [
    "class Car:\n",
    "    def __init__(self, make, model):\n",
    "        self.make = make\n",
    "        self.model = model\n",
    "\n",
    "    def get_wheels(self):\n",
    "        return 4\n",
    "\n",
    "    def info(self):\n",
    "        return f\"{self.make} {self.model}\"\n",
    "\n",
    "class Motorcycle:\n",
    "    def __init__(self, make, model):\n",
    "        self.make = make\n",
    "        self.model = model\n",
    "\n",
    "    def get_wheels(self):\n",
    "        return 2\n",
    "\n",
    "    def info(self):\n",
    "        return f\"{self.make} {self.model}\"\n",
    "\n",
    "class Truck:\n",
    "    def __init__(self, make, model, payload):\n",
    "        self.make = make\n",
    "        self.model = model\n",
    "        self.payload = payload\n",
    "\n",
    "    def get_wheels(self):\n",
    "        return 6\n",
    "\n",
    "    def info(self):\n",
    "        return f\"{self.make} {self.model}\""
   ]
  },
  {
   "cell_type": "markdown",
   "metadata": {},
   "source": [
    "Refactor these classes so they all use a common superclass, and inherit behavior as needed."
   ]
  },
  {
   "cell_type": "code",
   "execution_count": 126,
   "metadata": {},
   "outputs": [],
   "source": [
    "class Vehicle:\n",
    "    def __init__(self, make, model):\n",
    "        self.make = make\n",
    "        self.model = model\n",
    "\n",
    "    def info(self):\n",
    "        return f\"{self.make} {self.model}\"\n",
    "\n",
    "class Car:\n",
    "    def __init__(self, make, model):\n",
    "        super().__init__(make, model)\n",
    "\n",
    "    def get_wheels(self):\n",
    "        return 4\n",
    "        \n",
    "class Motorcycle:\n",
    "    def __init__(self, make, model):\n",
    "        super().__init__(make, model)\n",
    "\n",
    "    def get_wheels(self):\n",
    "        return 2\n",
    "\n",
    "    def info(self):\n",
    "        return f\"{self.make} {self.model}\"\n",
    "\n",
    "class Truck:\n",
    "    def __init__(self, make, model, payload):\n",
    "        super().__init__(make, model)\n",
    "        self.payload = payload\n",
    "\n",
    "    def get_wheels(self):\n",
    "        return 6\n",
    "\n",
    "    def info(self):\n",
    "        return f\"{self.make} {self.model}\""
   ]
  },
  {
   "cell_type": "markdown",
   "metadata": {},
   "source": [
    "You have the following classes."
   ]
  },
  {
   "cell_type": "code",
   "execution_count": 127,
   "metadata": {},
   "outputs": [],
   "source": [
    "class Person:\n",
    "    def __init__(self, name):\n",
    "        self.name = name\n",
    "\n",
    "    def gait(self):\n",
    "        return \"strolls\"\n",
    "\n",
    "class Cat:\n",
    "    def __init__(self, name):\n",
    "        self.name = name\n",
    "\n",
    "    def gait(self):\n",
    "        return \"saunters\"\n",
    "\n",
    "class Cheetah:\n",
    "    def __init__(self, name):\n",
    "        self.name = name\n",
    "\n",
    "    def gait(self):\n",
    "        return \"runs\""
   ]
  },
  {
   "cell_type": "markdown",
   "metadata": {},
   "source": [
    "You need to modify the code so that this works:"
   ]
  },
  {
   "cell_type": "code",
   "execution_count": 136,
   "metadata": {},
   "outputs": [
    {
     "name": "stdout",
     "output_type": "stream",
     "text": [
      "Mike strolls forward\n",
      "Kitty saunters forward\n",
      "Flash runs forward\n"
     ]
    }
   ],
   "source": [
    "mike = Person(\"Mike\")\n",
    "print(mike.walk())  # Expected: \"Mike strolls forward\"\n",
    "\n",
    "kitty = Cat(\"Kitty\")\n",
    "print(kitty.walk())  # Expected: \"Kitty saunters forward\"\n",
    "\n",
    "flash = Cheetah(\"Flash\")\n",
    "print(flash.walk())  # Expected: \"Flash runs forward\""
   ]
  },
  {
   "cell_type": "markdown",
   "metadata": {},
   "source": [
    "You may only write one new method to do this."
   ]
  },
  {
   "cell_type": "code",
   "execution_count": 133,
   "metadata": {},
   "outputs": [],
   "source": [
    "class Animal:\n",
    "    def __init__(self, name):\n",
    "        self.name = name\n",
    "\n",
    "    def walk(self):\n",
    "        return f\"{self.name} {self.gait()} forward\"\n",
    "\n",
    "class Person(Animal):\n",
    "    def gait(self):\n",
    "        return \"strolls\"\n",
    "\n",
    "class Cat(Animal):\n",
    "    def gait(self):\n",
    "        return \"saunters\"\n",
    "\n",
    "class Cheetah(Animal):\n",
    "    def gait(self):\n",
    "        return \"runs\""
   ]
  },
  {
   "cell_type": "code",
   "execution_count": 135,
   "metadata": {},
   "outputs": [],
   "source": [
    "class WalkMixin:\n",
    "    def walk(self):\n",
    "        return f\"{self.name} {self.gait()} forward\"\n",
    "\n",
    "class Person(WalkMixin):\n",
    "    def __init__(self, name):\n",
    "        self.name = name\n",
    "\n",
    "    def gait(self):\n",
    "        return \"strolls\"\n",
    "\n",
    "class Cat(WalkMixin):\n",
    "    def __init__(self, name):\n",
    "        self.name = name\n",
    "\n",
    "    def gait(self):\n",
    "        return \"saunters\"\n",
    "\n",
    "class Cheetah(WalkMixin):\n",
    "    def __init__(self, name):\n",
    "        self.name = name\n",
    "\n",
    "    def gait(self):\n",
    "        return \"runs\""
   ]
  },
  {
   "cell_type": "markdown",
   "metadata": {},
   "source": [
    "Now that we have a WalkMixin mix-in, we are given a new challenge. Apparently some of our users are nobility, and the regular way of walking simply isn't good enough. Nobility struts.\n",
    "\n",
    "We need a new class Noble that shows the title and name when walk is called. We also require access to name and title; they are needed for other purposes that we aren't showing here."
   ]
  },
  {
   "cell_type": "code",
   "execution_count": 142,
   "metadata": {},
   "outputs": [],
   "source": [
    "class Noble(WalkMixin):\n",
    "    def __init__(self, name, title):\n",
    "        self.name = name\n",
    "        self.title = title\n",
    "\n",
    "    def gait(self):\n",
    "        return \"struts\"\n",
    "    \n",
    "    def walk(self):\n",
    "        return self.title + \" \" + super().walk()"
   ]
  },
  {
   "cell_type": "code",
   "execution_count": 143,
   "metadata": {},
   "outputs": [
    {
     "name": "stdout",
     "output_type": "stream",
     "text": [
      "Lord Byron struts forward\n",
      "Byron\n",
      "Lord\n"
     ]
    }
   ],
   "source": [
    "byron = Noble(\"Byron\", \"Lord\")\n",
    "print(byron.walk())  # \"Lord Byron struts forward\"\n",
    "print(byron.name)    # \"Byron\"\n",
    "print(byron.title)   # \"Lord\""
   ]
  },
  {
   "cell_type": "markdown",
   "metadata": {},
   "source": [
    "Assume you have the following code:"
   ]
  },
  {
   "cell_type": "code",
   "execution_count": null,
   "metadata": {},
   "outputs": [],
   "source": [
    "class House:\n",
    "    def __init__(self, price):\n",
    "        self._price = price\n",
    "\n",
    "    @property\n",
    "    def price(self):\n",
    "        return self._price\n",
    "\n",
    "    @price.setter\n",
    "    def price(self, value):\n",
    "        self._price = value\n",
    "\n",
    "home1 = House(100000)\n",
    "home2 = House(150000)\n",
    "if home1 < home2:\n",
    "    print(\"Home 1 is cheaper\")\n",
    "if home2 > home1:\n",
    "    print(\"Home 2 is more expensive\")"
   ]
  },
  {
   "cell_type": "markdown",
   "metadata": {},
   "source": [
    "and this output:\n",
    "\n",
    "Home 1 is cheaper\n",
    "\n",
    "Home 2 is more expensive"
   ]
  },
  {
   "cell_type": "markdown",
   "metadata": {},
   "source": [
    "Modify the House class so the above program work as shown."
   ]
  },
  {
   "cell_type": "code",
   "execution_count": 145,
   "metadata": {},
   "outputs": [
    {
     "name": "stdout",
     "output_type": "stream",
     "text": [
      "Home 1 is cheaper\n",
      "Home 2 is more expensive\n"
     ]
    }
   ],
   "source": [
    "class House:\n",
    "    def __init__(self, price):\n",
    "        self._price = price\n",
    "\n",
    "    @property\n",
    "    def price(self):\n",
    "        return self._price\n",
    "\n",
    "    @price.setter\n",
    "    def price(self, value):\n",
    "        self._price = value\n",
    "\n",
    "    def __lt__(self, other):\n",
    "        if isinstance(other, House):\n",
    "            return self._price < other._price\n",
    "\n",
    "        return NotImplemented\n",
    "\n",
    "    def __gt__(self, other):\n",
    "        if isinstance(other, House):\n",
    "            return self._price > other._price\n",
    "\n",
    "        return NotImplemented\n",
    "    \n",
    "home1 = House(100000)\n",
    "home2 = House(150000)\n",
    "if home1 < home2:\n",
    "    print(\"Home 1 is cheaper\")\n",
    "if home2 > home1:\n",
    "    print(\"Home 2 is more expensive\")"
   ]
  },
  {
   "cell_type": "markdown",
   "metadata": {},
   "source": [
    "Implement a Wallet class that represents a wallet with a certain amount of money. You want to be able to combine (add) two wallets together to get a new wallet with the combined total amount from both wallets."
   ]
  },
  {
   "cell_type": "code",
   "execution_count": 150,
   "metadata": {},
   "outputs": [],
   "source": [
    "class Wallet:\n",
    "    def __init__(self, amount):\n",
    "        self.amount = amount\n",
    "    \n",
    "    def __add__(self, other):\n",
    "        if isinstance(other, Wallet):\n",
    "            return Wallet(self.amount + other.amount)\n",
    "        \n",
    "        return NotImplemented"
   ]
  },
  {
   "cell_type": "code",
   "execution_count": 151,
   "metadata": {},
   "outputs": [
    {
     "name": "stdout",
     "output_type": "stream",
     "text": [
      "True\n"
     ]
    }
   ],
   "source": [
    "wallet1 = Wallet(50)\n",
    "wallet2 = Wallet(30)\n",
    "merged_wallet = wallet1 + wallet2\n",
    "print(merged_wallet.amount == 80)       # True"
   ]
  },
  {
   "cell_type": "markdown",
   "metadata": {},
   "source": [
    "Using the code from the previous exercise, modify the code so that when we print the merged_wallet we receive a message Wallet with $80."
   ]
  },
  {
   "cell_type": "code",
   "execution_count": 159,
   "metadata": {},
   "outputs": [],
   "source": [
    "class Wallet:\n",
    "    def __init__(self, amount):\n",
    "        self.amount = amount\n",
    "    \n",
    "    def __add__(self, other):\n",
    "        if isinstance(other, Wallet):\n",
    "            return Wallet(self.amount + other.amount)\n",
    "        \n",
    "        return NotImplemented\n",
    "    \n",
    "    def __str__(self):\n",
    "        return f\"Wallet with ${self.amount}\""
   ]
  },
  {
   "cell_type": "code",
   "execution_count": 160,
   "metadata": {},
   "outputs": [
    {
     "name": "stdout",
     "output_type": "stream",
     "text": [
      "Wallet with $80\n"
     ]
    }
   ],
   "source": [
    "wallet1 = Wallet(50)\n",
    "wallet2 = Wallet(30)\n",
    "merged_wallet = wallet1 + wallet2\n",
    "print(merged_wallet)          # Wallet with $80."
   ]
  },
  {
   "cell_type": "markdown",
   "metadata": {},
   "source": [
    "Write a class such that the following code prints the results indicated by the comments:"
   ]
  },
  {
   "cell_type": "code",
   "execution_count": 171,
   "metadata": {},
   "outputs": [],
   "source": [
    "class Transform:\n",
    "    def __init__(self, string):\n",
    "        self.string = string\n",
    "\n",
    "    def uppercase(self):\n",
    "        return self.string.upper()\n",
    "    \n",
    "    @classmethod\n",
    "    def lowercase(cls, string_):\n",
    "        return string_.lower()\n",
    "    "
   ]
  },
  {
   "cell_type": "code",
   "execution_count": 173,
   "metadata": {},
   "outputs": [
    {
     "name": "stdout",
     "output_type": "stream",
     "text": [
      "ABC\n",
      "xyz\n"
     ]
    }
   ],
   "source": [
    "my_data = Transform('abc')\n",
    "print(my_data.uppercase())              # ABC\n",
    "print(Transform.lowercase('XYZ'))       # xyz"
   ]
  }
 ],
 "metadata": {
  "kernelspec": {
   "display_name": "Python 3",
   "language": "python",
   "name": "python3"
  },
  "language_info": {
   "codemirror_mode": {
    "name": "ipython",
    "version": 3
   },
   "file_extension": ".py",
   "mimetype": "text/x-python",
   "name": "python",
   "nbconvert_exporter": "python",
   "pygments_lexer": "ipython3",
   "version": "3.12.5"
  }
 },
 "nbformat": 4,
 "nbformat_minor": 2
}

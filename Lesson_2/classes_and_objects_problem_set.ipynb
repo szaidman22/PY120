{
 "cells": [
  {
   "cell_type": "markdown",
   "metadata": {},
   "source": [
    "Given the following code, create the Person class needed to make the code work as shown:"
   ]
  },
  {
   "cell_type": "code",
   "execution_count": 1,
   "metadata": {},
   "outputs": [],
   "source": [
    "class Person:\n",
    "    def __init__(self, name):\n",
    "        self.name = name"
   ]
  },
  {
   "cell_type": "code",
   "execution_count": 3,
   "metadata": {},
   "outputs": [],
   "source": [
    "class Person:\n",
    "    def __init__(self, name):\n",
    "        self.name = name\n",
    "\n",
    "@property\n",
    "def name(self):\n",
    "    return self._name\n",
    "\n",
    "@name.setter\n",
    "def name(self):\n",
    "    if not isinstance(name, str):\n",
    "        raise TypeError(\"Name must be a string\")\n",
    "    \n",
    "    self._name = name"
   ]
  },
  {
   "cell_type": "code",
   "execution_count": 4,
   "metadata": {},
   "outputs": [
    {
     "name": "stdout",
     "output_type": "stream",
     "text": [
      "bob\n",
      "Robert\n"
     ]
    }
   ],
   "source": [
    "bob = Person('bob')\n",
    "print(bob.name)           # bob\n",
    "bob.name = 'Robert'\n",
    "print(bob.name)           # Robert"
   ]
  },
  {
   "cell_type": "markdown",
   "metadata": {},
   "source": [
    "Modify the class definition from above to facilitate the following methods. Note that there is no name= setter method now."
   ]
  },
  {
   "cell_type": "code",
   "execution_count": 31,
   "metadata": {},
   "outputs": [],
   "source": [
    "class Person:\n",
    "    def __init__(self, name):\n",
    "        parts = name.split()\n",
    "        self.first_name = parts[0]\n",
    "        self.last_name = ''\n",
    "        if len(parts) > 1:\n",
    "            self.last_name = parts[1]\n",
    "            \n",
    "    @property\n",
    "    def name(self):\n",
    "        return f\"{self.first_name.title()} {self.last_name.title()}\"\n",
    "\n",
    "    @property\n",
    "    def first_name(self):\n",
    "        return self._first_name\n",
    "\n",
    "    @first_name.setter\n",
    "    def first_name(self, first_name):\n",
    "        if not isinstance(first_name, str):\n",
    "            raise TypeError(\"Name must be a string\")\n",
    "        \n",
    "        print(f\"first name has been set: {first_name}\")\n",
    "        self._first_name = first_name\n",
    "\n",
    "    @property\n",
    "    def last_name(self):\n",
    "        return self._last_name\n",
    "\n",
    "    @last_name.setter\n",
    "    def last_name(self, last_name):\n",
    "        if not isinstance(last_name, str):\n",
    "            raise TypeError(\"Name must be a string\")\n",
    "        \n",
    "        print(f\"last name has been set: {last_name}\")\n",
    "        self._last_name = last_name\n",
    "\n"
   ]
  },
  {
   "cell_type": "code",
   "execution_count": 32,
   "metadata": {},
   "outputs": [
    {
     "name": "stdout",
     "output_type": "stream",
     "text": [
      "first name has been set: Robert\n",
      "last name has been set: \n",
      "Robert \n",
      "Robert\n",
      "''\n",
      "last name has been set: Smith\n",
      "Robert Smith\n"
     ]
    }
   ],
   "source": [
    "bob = Person('Robert')\n",
    "print(bob.name)             # Robert\n",
    "print(bob.first_name)       # Robert\n",
    "print(repr(bob.last_name))  # ''\n",
    "bob.last_name = 'Smith'\n",
    "print(bob.name)             # Robert Smith"
   ]
  },
  {
   "cell_type": "markdown",
   "metadata": {},
   "source": [
    "Add a new setter property for name that takes either a first name or full name, and knows how to set the first_name and last_name properties appropriately. Use the following code to test your code:"
   ]
  },
  {
   "cell_type": "code",
   "execution_count": 41,
   "metadata": {},
   "outputs": [],
   "source": [
    "class Person:\n",
    "    def __init__(self, name):\n",
    "        self.name = name\n",
    "            \n",
    "    @property\n",
    "    def name(self):\n",
    "        return f\"{self.first_name.title()} {self.last_name.title()}\"\n",
    "    \n",
    "    @name.setter\n",
    "    def name(self, name):\n",
    "        if not isinstance(name, str):\n",
    "            raise TypeError(\"Name must be a string\")\n",
    "        \n",
    "        parts = name.split()\n",
    "        self.first_name = parts[0]\n",
    "        self.last_name = ''\n",
    "        if len(parts) > 1:\n",
    "            self.last_name = parts[1]\n",
    "        \n",
    "        self._name = name\n",
    "\n",
    "    @property\n",
    "    def first_name(self):\n",
    "        return self._first_name\n",
    "\n",
    "    @first_name.setter\n",
    "    def first_name(self, first_name):\n",
    "        if not isinstance(first_name, str):\n",
    "            raise TypeError(\"Name must be a string\")\n",
    "        \n",
    "        self._first_name = first_name\n",
    "\n",
    "    @property\n",
    "    def last_name(self):\n",
    "        return self._last_name\n",
    "\n",
    "    @last_name.setter\n",
    "    def last_name(self, last_name):\n",
    "        if not isinstance(last_name, str):\n",
    "            raise TypeError(\"Name must be a string\")\n",
    "        \n",
    "        self._last_name = last_name\n",
    "\n"
   ]
  },
  {
   "cell_type": "code",
   "execution_count": 42,
   "metadata": {},
   "outputs": [
    {
     "name": "stdout",
     "output_type": "stream",
     "text": [
      "Robert \n",
      "Robert\n",
      "''\n",
      "Robert Smith\n",
      "Prince\n",
      "''\n",
      "John\n",
      "Adams\n"
     ]
    }
   ],
   "source": [
    "bob = Person('Robert')\n",
    "print(bob.name)             # Robert\n",
    "print(bob.first_name)       # Robert\n",
    "print(repr(bob.last_name))  # ''\n",
    "bob.last_name = 'Smith'\n",
    "print(bob.name)             # Robert Smith\n",
    "\n",
    "bob.name = 'Prince'\n",
    "print(bob.first_name)       # Prince\n",
    "print(repr(bob.last_name))  # ''\n",
    "\n",
    "bob.name = 'John Adams'\n",
    "print(bob.first_name)       # John\n",
    "print(bob.last_name)        # Adams"
   ]
  },
  {
   "cell_type": "markdown",
   "metadata": {},
   "source": [
    "Using the class definition from problem 3, let's create some more people (Person objects):"
   ]
  },
  {
   "cell_type": "code",
   "execution_count": 43,
   "metadata": {},
   "outputs": [],
   "source": [
    "bob = Person('Robert Smith')\n",
    "rob = Person('Robert Smith')"
   ]
  },
  {
   "cell_type": "markdown",
   "metadata": {},
   "source": [
    "Without adding any code to the Person class, we want to compare bob and rob to see whether they both have the same name. How can we make this comparison?"
   ]
  },
  {
   "cell_type": "code",
   "execution_count": 44,
   "metadata": {},
   "outputs": [
    {
     "data": {
      "text/plain": [
       "True"
      ]
     },
     "execution_count": 44,
     "metadata": {},
     "output_type": "execute_result"
    }
   ],
   "source": [
    "bob.name == rob.name"
   ]
  },
  {
   "cell_type": "markdown",
   "metadata": {},
   "source": [
    "Continuing with our Person class definition, what do you think the following code prints?"
   ]
  },
  {
   "cell_type": "code",
   "execution_count": 45,
   "metadata": {},
   "outputs": [
    {
     "name": "stdout",
     "output_type": "stream",
     "text": [
      "The person's name is: <__main__.Person object at 0x107f06c60>\n"
     ]
    }
   ],
   "source": [
    "bob = Person('Robert Smith')\n",
    "print(f\"The person's name is: {bob}\")\n",
    "\n",
    "#I think it's going to print the address of bob in memory"
   ]
  }
 ],
 "metadata": {
  "kernelspec": {
   "display_name": "Python 3",
   "language": "python",
   "name": "python3"
  },
  "language_info": {
   "codemirror_mode": {
    "name": "ipython",
    "version": 3
   },
   "file_extension": ".py",
   "mimetype": "text/x-python",
   "name": "python",
   "nbconvert_exporter": "python",
   "pygments_lexer": "ipython3",
   "version": "3.12.5"
  }
 },
 "nbformat": 4,
 "nbformat_minor": 2
}

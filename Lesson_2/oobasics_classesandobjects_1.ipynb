{
 "cells": [
  {
   "cell_type": "markdown",
   "metadata": {},
   "source": [
    "Update the following code so that, instead of printing the values, each statement prints the name of the class to which it belongs"
   ]
  },
  {
   "cell_type": "code",
   "execution_count": 1,
   "metadata": {},
   "outputs": [
    {
     "name": "stdout",
     "output_type": "stream",
     "text": [
      "Hello\n",
      "5\n",
      "[1, 2, 3]\n"
     ]
    }
   ],
   "source": [
    "# Comments show expected output\n",
    "print(\"Hello\")                # <class 'str'>\n",
    "print(5)                      # <class 'int'>\n",
    "print([1, 2, 3])              # <class 'list'>"
   ]
  },
  {
   "cell_type": "code",
   "execution_count": 7,
   "metadata": {},
   "outputs": [
    {
     "name": "stdout",
     "output_type": "stream",
     "text": [
      "<class 'str'>\n",
      "<class 'int'>\n",
      "<class 'list'>\n"
     ]
    }
   ],
   "source": [
    "# Comments show expected output\n",
    "print(\"Hello\".__class__)                # <class 'str'>\n",
    "print(type(5))                      # <class 'int'>\n",
    "print([1, 2, 3].__class__)              # <class 'list'>"
   ]
  },
  {
   "cell_type": "markdown",
   "metadata": {},
   "source": [
    "Create an empty class named Cat."
   ]
  },
  {
   "cell_type": "code",
   "execution_count": 8,
   "metadata": {},
   "outputs": [],
   "source": [
    "class Cat:\n",
    "    pass"
   ]
  },
  {
   "cell_type": "markdown",
   "metadata": {},
   "source": [
    "Using the code from the previous exercise, create an instance of Cat and assign it to a variable named kitty."
   ]
  },
  {
   "cell_type": "code",
   "execution_count": 11,
   "metadata": {},
   "outputs": [],
   "source": [
    "class Cat:\n",
    "    pass\n",
    "\n",
    "kitty = Cat()"
   ]
  },
  {
   "cell_type": "markdown",
   "metadata": {},
   "source": [
    "Using the code from the previous exercise, add a __init__ method that prints I'm a cat! when a new Cat object is instantiated."
   ]
  },
  {
   "cell_type": "code",
   "execution_count": 12,
   "metadata": {},
   "outputs": [
    {
     "name": "stdout",
     "output_type": "stream",
     "text": [
      "I'm a cat!\n"
     ]
    }
   ],
   "source": [
    "class Cat:\n",
    "    def __init__(self):\n",
    "        print(\"I'm a cat!\")\n",
    "\n",
    "kitty = Cat()"
   ]
  },
  {
   "cell_type": "markdown",
   "metadata": {},
   "source": [
    "Using the code from the previous exercise, add a parameter to __init__ that provides a name for the Cat object. Use an instance variable to print a greeting with the provided name. (You can remove the code that displays I'm a cat!.)"
   ]
  },
  {
   "cell_type": "code",
   "execution_count": 18,
   "metadata": {},
   "outputs": [
    {
     "name": "stdout",
     "output_type": "stream",
     "text": [
      "Hello! My name is Sophie!\n"
     ]
    }
   ],
   "source": [
    "class Cat:\n",
    "    def __init__(self, name):\n",
    "        self.name = name\n",
    "        print(f\"Hello! My name is {self.name}!\")\n",
    "\n",
    "kitty = Cat('Sophie')"
   ]
  },
  {
   "cell_type": "markdown",
   "metadata": {},
   "source": [
    "Using the code from the previous exercise, move the greeting from the __init__ method to an instance method named greet that prints a greeting when invoked. Make sure you write some code that invokes the method."
   ]
  },
  {
   "cell_type": "code",
   "execution_count": 19,
   "metadata": {},
   "outputs": [
    {
     "name": "stdout",
     "output_type": "stream",
     "text": [
      "Hello! My name is Sophie!\n"
     ]
    }
   ],
   "source": [
    "class Cat:\n",
    "    def __init__(self, name):\n",
    "        self.name = name\n",
    "    \n",
    "    def greet(self):\n",
    "        print(f\"Hello! My name is {self.name}!\")\n",
    "\n",
    "\n",
    "kitty = Cat('Sophie')\n",
    "kitty.greet()"
   ]
  },
  {
   "cell_type": "markdown",
   "metadata": {},
   "source": [
    "Using the code snippet provided below, modify the instance variable name to indicate to developers that it is intended for internal use only."
   ]
  },
  {
   "cell_type": "code",
   "execution_count": 20,
   "metadata": {},
   "outputs": [
    {
     "name": "stdout",
     "output_type": "stream",
     "text": [
      "Hello! My name is Sophie!\n"
     ]
    }
   ],
   "source": [
    "class Cat:\n",
    "    def __init__(self, name):\n",
    "        self._name = name\n",
    "\n",
    "    def greet(self):\n",
    "        print(f\"Hello! My name is {self._name}!\")\n",
    "\n",
    "kitty = Cat('Sophie')\n",
    "kitty.greet()"
   ]
  },
  {
   "cell_type": "markdown",
   "metadata": {},
   "source": [
    "Using the code snippet provided below, add a getter method named name and invoke it in place of self._name in greet."
   ]
  },
  {
   "cell_type": "code",
   "execution_count": 27,
   "metadata": {},
   "outputs": [
    {
     "name": "stdout",
     "output_type": "stream",
     "text": [
      "Hello! My name is Sophie!\n"
     ]
    }
   ],
   "source": [
    "class Cat:\n",
    "    def __init__(self, name):\n",
    "        self._name = name\n",
    "\n",
    "    @property\n",
    "    def name(self):\n",
    "        return self._name\n",
    "    \n",
    "    def greet(self):\n",
    "        print(f\"Hello! My name is {self.name}!\")\n",
    "\n",
    "kitty = Cat('Sophie')\n",
    "kitty.greet()"
   ]
  },
  {
   "cell_type": "markdown",
   "metadata": {},
   "source": [
    "Using the code snippet provided below, add a setter method named name. Then, rename kitty to 'Luna' and invoke greet again.\n",
    "\n",
    "Copy Code"
   ]
  },
  {
   "cell_type": "code",
   "execution_count": 37,
   "metadata": {},
   "outputs": [
    {
     "name": "stdout",
     "output_type": "stream",
     "text": [
      "mip\n",
      "Sophie\n",
      "meep\n",
      "Hello! My name is Sophiejingle!\n",
      "Luna\n",
      "meep\n",
      "Hello! My name is Lunajingle!\n"
     ]
    }
   ],
   "source": [
    "class Cat:\n",
    "    def __init__(self, name):\n",
    "        print('mip')\n",
    "        self.name = name\n",
    "\n",
    "    @property\n",
    "    def name(self):\n",
    "        print('meep')\n",
    "        return self._name\n",
    "    \n",
    "    @name.setter\n",
    "    def name(self, new_name):\n",
    "        print(new_name)\n",
    "        self._name = new_name + 'jingle'\n",
    "\n",
    "    def greet(self):\n",
    "        print(f\"Hello! My name is {self.name}!\")\n",
    "\n",
    "kitty = Cat('Sophie')\n",
    "kitty.greet()\n",
    "kitty.name = 'Luna'\n",
    "kitty.greet()"
   ]
  },
  {
   "cell_type": "markdown",
   "metadata": {},
   "source": [
    "Create a class named Person.\n",
    "\n",
    "When you instantiate a Person object, you should pass in one argument that contains the person's name.\n",
    "\n",
    "If no arguments are given, the Person object should be instantiated with a name of \"John Doe\"."
   ]
  },
  {
   "cell_type": "code",
   "execution_count": 38,
   "metadata": {},
   "outputs": [
    {
     "name": "stdout",
     "output_type": "stream",
     "text": [
      "John Doe\n",
      "Pepe Le Pew\n"
     ]
    }
   ],
   "source": [
    "class Person:\n",
    "    def __init__(self, name = \"John Doe\"):\n",
    "        self.name = name\n",
    "\n",
    "person1 = Person()\n",
    "person2 = Person(\"Pepe Le Pew\")\n",
    "\n",
    "# Comments show expected output\n",
    "print(person1.name)    # John Doe\n",
    "print(person2.name)    # Pepe Le Pew"
   ]
  }
 ],
 "metadata": {
  "kernelspec": {
   "display_name": "Python 3",
   "language": "python",
   "name": "python3"
  },
  "language_info": {
   "codemirror_mode": {
    "name": "ipython",
    "version": 3
   },
   "file_extension": ".py",
   "mimetype": "text/x-python",
   "name": "python",
   "nbconvert_exporter": "python",
   "pygments_lexer": "ipython3",
   "version": "3.12.5"
  }
 },
 "nbformat": 4,
 "nbformat_minor": 2
}

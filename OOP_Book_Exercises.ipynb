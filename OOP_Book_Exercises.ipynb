{
 "cells": [
  {
   "cell_type": "markdown",
   "metadata": {},
   "source": [
    "Create a Car class that meets these requirements:\n",
    "\n",
    "- Each Car object should have a model, model year, and color provided at instantiation time.\n",
    "- You should have an instance variable that keeps track of the current speed. Initialize it to 0 when you instantiate a new car.\n",
    "- Create instance methods that let you turn the engine on, accelerate, brake, and turn the engine off. Each method should display an appropriate message.\n",
    "- Create a method that prints a message about the car's current speed.\n",
    "Write some code to test the methods."
   ]
  },
  {
   "cell_type": "code",
   "execution_count": 215,
   "metadata": {},
   "outputs": [],
   "source": [
    "class Car:\n",
    "\n",
    "    def __init__(self, model, model_year, color):\n",
    "        self.model = model\n",
    "        self.model_year = model_year\n",
    "        self.color = color\n",
    "        self.speed = 0\n",
    "        self.on_status = False\n",
    "\n",
    "    @property\n",
    "    def model(self):\n",
    "            return self._model\n",
    "\n",
    "    @model.setter\n",
    "    def model(self, model):\n",
    "        if not isinstance(model, str):\n",
    "            raise TypeError('Model must be a string')\n",
    "        \n",
    "        self._model = model\n",
    "\n",
    "    @property\n",
    "    def model_year(self):\n",
    "        return self._model_year\n",
    "\n",
    "    @model_year.setter\n",
    "    def model_year(self, model_year):\n",
    "        if not isinstance(model_year, int):\n",
    "            raise TypeError('Model Year must be an integer')\n",
    "\n",
    "        self._model_year = model_year\n",
    "\n",
    "    @property\n",
    "    def color(self):\n",
    "        return self._color\n",
    "\n",
    "    @color.setter\n",
    "    def color(self, color):\n",
    "        colors = ['red','orange','yellow','green','blue','indigo','violet',\n",
    "                'white','black']\n",
    "        if color not in colors:\n",
    "            raise TypeError('Color must be a valid color.')\n",
    "\n",
    "        self._color = color\n",
    "\n",
    "    def engine_on(self):\n",
    "        if self.on_status:\n",
    "            print(\"The car is already on!\")\n",
    "        \n",
    "        else:\n",
    "            self.on_status = True\n",
    "            print(\"The engine has been turned on.\")\n",
    "\n",
    "    def accelerate(self, accelerator):\n",
    "        if not self.on_status:\n",
    "            print(\"The car is not on, please turn the car on to accelerate.\")\n",
    "\n",
    "        else:\n",
    "            self.speed += accelerator\n",
    "            print(f\"The accelerator has been engaged, speed is now {self.speed}\")\n",
    "\n",
    "    def brake(self, decelerator):\n",
    "        if self.speed - decelerator < 0:\n",
    "            self.speed = 0\n",
    "\n",
    "        else:\n",
    "            self.speed -= decelerator\n",
    "\n",
    "        print(f\"The brake has been applied, the speed is now {self.speed}.\")\n",
    "\n",
    "    def engine_off(self):\n",
    "        if not self.on_status:\n",
    "            print(\"The car is already off!\")\n",
    "\n",
    "        else:\n",
    "            self.on_status = False\n",
    "            print(\"The engine has been turned off.\")\n",
    "    \n",
    "    def current_speed(self):\n",
    "        print(f\"The car's current speed is {self.speed}\")\n",
    "\n",
    "    def spray_paint(self, color):\n",
    "        self.color = color\n",
    "        print(f\"Your {color} paint job looks great!\")\n",
    "        \n",
    "   # Add a class method to your Car class that calculates and \n",
    "   # prints any car's average gas mileage (miles per gallon). \n",
    "   # You can compute the mileage by dividing the distance traveled \n",
    "   # (in miles) by the fuel burned (in gallons).\n",
    "\n",
    "    @classmethod\n",
    "    def gas_mileage(cls, miles_traveled, gallons_fuel_burned):\n",
    "        print(f\"{round(miles_traveled / gallons_fuel_burned, 2)} MPG\")\n",
    "\n",
    "    #can be made into a static method\n",
    "    '''\n",
    "    @staticmethod\n",
    "    def gas_mileage(miles_traveled, gallons_fuel_burned):\n",
    "        print(f\"{round(miles_traveled / gallons_fuel_burned, 2)} MPG\")\n",
    "    '''\n"
   ]
  },
  {
   "cell_type": "code",
   "execution_count": 216,
   "metadata": {},
   "outputs": [
    {
     "name": "stdout",
     "output_type": "stream",
     "text": [
      "T-Bird red 1994 0\n"
     ]
    }
   ],
   "source": [
    "tbird = Car('T-Bird', 1994, 'red')\n",
    "print(tbird.model, tbird.color, tbird.model_year, tbird.speed)"
   ]
  },
  {
   "cell_type": "code",
   "execution_count": 150,
   "metadata": {},
   "outputs": [
    {
     "name": "stdout",
     "output_type": "stream",
     "text": [
      "2.22 MPG :)\n"
     ]
    }
   ],
   "source": [
    "Car.gas_mileage(100, 45)"
   ]
  },
  {
   "cell_type": "code",
   "execution_count": 119,
   "metadata": {},
   "outputs": [
    {
     "name": "stdout",
     "output_type": "stream",
     "text": [
      "Your green paint job looks great!\n"
     ]
    }
   ],
   "source": [
    "tbird.spray_paint('green')"
   ]
  },
  {
   "cell_type": "code",
   "execution_count": 120,
   "metadata": {},
   "outputs": [
    {
     "name": "stdout",
     "output_type": "stream",
     "text": [
      "T-Bird green 1994 0\n"
     ]
    }
   ],
   "source": [
    "print(tbird.model, tbird.color, tbird.model_year, tbird.speed)"
   ]
  },
  {
   "cell_type": "code",
   "execution_count": 93,
   "metadata": {},
   "outputs": [
    {
     "name": "stdout",
     "output_type": "stream",
     "text": [
      "The engine has been turned on.\n"
     ]
    }
   ],
   "source": [
    "tbird.engine_on()"
   ]
  },
  {
   "cell_type": "code",
   "execution_count": 97,
   "metadata": {},
   "outputs": [
    {
     "name": "stdout",
     "output_type": "stream",
     "text": [
      "The accelerator has been engaged, speed is now 32\n"
     ]
    }
   ],
   "source": [
    "tbird.accelerate(8)"
   ]
  },
  {
   "cell_type": "code",
   "execution_count": 98,
   "metadata": {},
   "outputs": [
    {
     "name": "stdout",
     "output_type": "stream",
     "text": [
      "The car's current speed is 32\n"
     ]
    }
   ],
   "source": [
    "tbird.current_speed()"
   ]
  },
  {
   "cell_type": "code",
   "execution_count": 100,
   "metadata": {},
   "outputs": [
    {
     "name": "stdout",
     "output_type": "stream",
     "text": [
      "T-Bird red 1994 32\n"
     ]
    }
   ],
   "source": [
    "print(tbird.model, tbird.color, tbird.model_year, tbird.speed)"
   ]
  },
  {
   "cell_type": "code",
   "execution_count": 113,
   "metadata": {},
   "outputs": [
    {
     "name": "stdout",
     "output_type": "stream",
     "text": [
      "The brake has been applied, the speed is now 0.\n"
     ]
    }
   ],
   "source": [
    "tbird.brake(4)"
   ]
  },
  {
   "cell_type": "code",
   "execution_count": 114,
   "metadata": {},
   "outputs": [
    {
     "name": "stdout",
     "output_type": "stream",
     "text": [
      "T-Bird red 1994 0\n"
     ]
    }
   ],
   "source": [
    "print(tbird.model, tbird.color, tbird.model_year, tbird.speed)"
   ]
  },
  {
   "cell_type": "code",
   "execution_count": 115,
   "metadata": {},
   "outputs": [
    {
     "name": "stdout",
     "output_type": "stream",
     "text": [
      "The engine has been turned off.\n"
     ]
    }
   ],
   "source": [
    "tbird.engine_off()"
   ]
  },
  {
   "cell_type": "markdown",
   "metadata": {},
   "source": [
    "Create a Person class with two instance variables to hold a person's first and last names. The names should be passed to the constructor as arguments and stored separately. The first and last names are required and must consist entirely of alphabetic characters.\n",
    "\n",
    "The class should also have a getter method that returns the person's name as a full name (the first and last names are separated by spaces), with both first and last names capitalized correctly.\n",
    "\n",
    "The class should also have a setter method that takes the name from a two-element tuple. These names must meet the requirements given for the constructor.\n",
    "\n",
    "Yes, this class is somewhat contrived.\n",
    "\n",
    "You can use the following code snippets to test your class. Since some tests cause exceptions, we've broken them into separate snippets."
   ]
  },
  {
   "cell_type": "code",
   "execution_count": 205,
   "metadata": {},
   "outputs": [],
   "source": [
    "class Person():\n",
    "    def __init__(self, first_name, last_name):\n",
    "        self.first_name = first_name\n",
    "        self.last_name = last_name\n",
    "\n",
    "    @property\n",
    "    def first_name(self):\n",
    "        return self._first_name\n",
    "\n",
    "    @first_name.setter\n",
    "    def first_name(self, first_name):\n",
    "\n",
    "        if not first_name.isalpha():\n",
    "            raise TypeError('Name must only have alphabetic characters')\n",
    "\n",
    "        self._first_name = first_name\n",
    "\n",
    "    @property\n",
    "    def last_name(self):\n",
    "        return self._last_name\n",
    "\n",
    "    @last_name.setter\n",
    "    def last_name(self, last_name):\n",
    "\n",
    "        if not last_name.isalpha():\n",
    "            raise TypeError('Name must only have alphabetic characters')\n",
    "\n",
    "        self._last_name = last_name\n",
    "\n",
    "    @property\n",
    "    def name(self):\n",
    "        return (f\"{self.first_name.title()} {self.last_name.title()}\")\n",
    "    \n",
    "    @name.setter\n",
    "    def name(self, name_tuple):\n",
    "        \n",
    "        if not name_tuple[0].isalpha() or not name_tuple[1].isalpha():\n",
    "            raise TypeError('Name must only have alphabetic characters')\n",
    "            \n",
    "        self._first_name = name_tuple[0]\n",
    "        self._last_name = name_tuple[1]\n",
    "\n",
    "        self._name = (f\"{self._first_name.title()} {self._last_name.title()}\")\n",
    "\n",
    "\n",
    "    "
   ]
  },
  {
   "cell_type": "code",
   "execution_count": 180,
   "metadata": {},
   "outputs": [],
   "source": [
    "sofia = Person('Sofia', 'Zaidman')"
   ]
  },
  {
   "cell_type": "code",
   "execution_count": 181,
   "metadata": {},
   "outputs": [
    {
     "data": {
      "text/plain": [
       "'Sofia'"
      ]
     },
     "execution_count": 181,
     "metadata": {},
     "output_type": "execute_result"
    }
   ],
   "source": [
    "sofia._first_name"
   ]
  },
  {
   "cell_type": "code",
   "execution_count": 182,
   "metadata": {},
   "outputs": [
    {
     "data": {
      "text/plain": [
       "'Sofia Zaidman'"
      ]
     },
     "execution_count": 182,
     "metadata": {},
     "output_type": "execute_result"
    }
   ],
   "source": [
    "sofia.name"
   ]
  },
  {
   "cell_type": "code",
   "execution_count": 207,
   "metadata": {},
   "outputs": [
    {
     "name": "stdout",
     "output_type": "stream",
     "text": [
      "Mark Sinclair\n",
      "Vin Diesel\n"
     ]
    },
    {
     "ename": "TypeError",
     "evalue": "Name must only have alphabetic characters",
     "output_type": "error",
     "traceback": [
      "\u001b[0;31m---------------------------------------------------------------------------\u001b[0m",
      "\u001b[0;31mTypeError\u001b[0m                                 Traceback (most recent call last)",
      "Cell \u001b[0;32mIn[207], line 5\u001b[0m\n\u001b[1;32m      3\u001b[0m actor\u001b[38;5;241m.\u001b[39mname \u001b[38;5;241m=\u001b[39m (\u001b[38;5;124m'\u001b[39m\u001b[38;5;124mVin\u001b[39m\u001b[38;5;124m'\u001b[39m, \u001b[38;5;124m'\u001b[39m\u001b[38;5;124mDiesel\u001b[39m\u001b[38;5;124m'\u001b[39m)\n\u001b[1;32m      4\u001b[0m \u001b[38;5;28mprint\u001b[39m(actor\u001b[38;5;241m.\u001b[39mname)              \u001b[38;5;66;03m# Vin Diesel\u001b[39;00m\n\u001b[0;32m----> 5\u001b[0m \u001b[43mactor\u001b[49m\u001b[38;5;241;43m.\u001b[39;49m\u001b[43mname\u001b[49m \u001b[38;5;241m=\u001b[39m (\u001b[38;5;124m'\u001b[39m\u001b[38;5;124m'\u001b[39m, \u001b[38;5;124m'\u001b[39m\u001b[38;5;124mDiesel\u001b[39m\u001b[38;5;124m'\u001b[39m)\n",
      "Cell \u001b[0;32mIn[205], line 38\u001b[0m, in \u001b[0;36mPerson.name\u001b[0;34m(self, name_tuple)\u001b[0m\n\u001b[1;32m     34\u001b[0m \u001b[38;5;129m@name\u001b[39m\u001b[38;5;241m.\u001b[39msetter\n\u001b[1;32m     35\u001b[0m \u001b[38;5;28;01mdef\u001b[39;00m \u001b[38;5;21mname\u001b[39m(\u001b[38;5;28mself\u001b[39m, name_tuple):\n\u001b[1;32m     37\u001b[0m     \u001b[38;5;28;01mif\u001b[39;00m \u001b[38;5;129;01mnot\u001b[39;00m name_tuple[\u001b[38;5;241m0\u001b[39m]\u001b[38;5;241m.\u001b[39misalpha() \u001b[38;5;129;01mor\u001b[39;00m \u001b[38;5;129;01mnot\u001b[39;00m name_tuple[\u001b[38;5;241m1\u001b[39m]\u001b[38;5;241m.\u001b[39misalpha():\n\u001b[0;32m---> 38\u001b[0m         \u001b[38;5;28;01mraise\u001b[39;00m \u001b[38;5;167;01mTypeError\u001b[39;00m(\u001b[38;5;124m'\u001b[39m\u001b[38;5;124mName must only have alphabetic characters\u001b[39m\u001b[38;5;124m'\u001b[39m)\n\u001b[1;32m     40\u001b[0m     \u001b[38;5;28mself\u001b[39m\u001b[38;5;241m.\u001b[39m_first_name \u001b[38;5;241m=\u001b[39m name_tuple[\u001b[38;5;241m0\u001b[39m]\n\u001b[1;32m     41\u001b[0m     \u001b[38;5;28mself\u001b[39m\u001b[38;5;241m.\u001b[39m_last_name \u001b[38;5;241m=\u001b[39m name_tuple[\u001b[38;5;241m1\u001b[39m]\n",
      "\u001b[0;31mTypeError\u001b[0m: Name must only have alphabetic characters"
     ]
    }
   ],
   "source": [
    "actor = Person('Mark', 'Sinclair')\n",
    "print(actor.name)              # Mark Sinclair\n",
    "actor.name = ('Vin', 'Diesel')\n",
    "print(actor.name)              # Vin Diesel\n",
    "actor.name = ('', 'Diesel')\n"
   ]
  },
  {
   "cell_type": "code",
   "execution_count": 208,
   "metadata": {},
   "outputs": [
    {
     "name": "stdout",
     "output_type": "stream",
     "text": [
      "Annie Hall\n"
     ]
    },
    {
     "ename": "TypeError",
     "evalue": "Name must only have alphabetic characters",
     "output_type": "error",
     "traceback": [
      "\u001b[0;31m---------------------------------------------------------------------------\u001b[0m",
      "\u001b[0;31mTypeError\u001b[0m                                 Traceback (most recent call last)",
      "Cell \u001b[0;32mIn[208], line 3\u001b[0m\n\u001b[1;32m      1\u001b[0m character \u001b[38;5;241m=\u001b[39m Person(\u001b[38;5;124m'\u001b[39m\u001b[38;5;124mannIE\u001b[39m\u001b[38;5;124m'\u001b[39m, \u001b[38;5;124m'\u001b[39m\u001b[38;5;124mHAll\u001b[39m\u001b[38;5;124m'\u001b[39m)\n\u001b[1;32m      2\u001b[0m \u001b[38;5;28mprint\u001b[39m(character\u001b[38;5;241m.\u001b[39mname)          \u001b[38;5;66;03m# Annie Hall\u001b[39;00m\n\u001b[0;32m----> 3\u001b[0m character \u001b[38;5;241m=\u001b[39m \u001b[43mPerson\u001b[49m\u001b[43m(\u001b[49m\u001b[38;5;124;43m'\u001b[39;49m\u001b[38;5;124;43mDa5id\u001b[39;49m\u001b[38;5;124;43m'\u001b[39;49m\u001b[43m,\u001b[49m\u001b[43m \u001b[49m\u001b[38;5;124;43m'\u001b[39;49m\u001b[38;5;124;43mMeier\u001b[39;49m\u001b[38;5;124;43m'\u001b[39;49m\u001b[43m)\u001b[49m\n\u001b[1;32m      4\u001b[0m \u001b[38;5;66;03m# ValueError: Name must be alphabetic.\u001b[39;00m\n",
      "Cell \u001b[0;32mIn[205], line 3\u001b[0m, in \u001b[0;36mPerson.__init__\u001b[0;34m(self, first_name, last_name)\u001b[0m\n\u001b[1;32m      2\u001b[0m \u001b[38;5;28;01mdef\u001b[39;00m \u001b[38;5;21m__init__\u001b[39m(\u001b[38;5;28mself\u001b[39m, first_name, last_name):\n\u001b[0;32m----> 3\u001b[0m     \u001b[38;5;28;43mself\u001b[39;49m\u001b[38;5;241;43m.\u001b[39;49m\u001b[43mfirst_name\u001b[49m \u001b[38;5;241m=\u001b[39m first_name\n\u001b[1;32m      4\u001b[0m     \u001b[38;5;28mself\u001b[39m\u001b[38;5;241m.\u001b[39mlast_name \u001b[38;5;241m=\u001b[39m last_name\n",
      "Cell \u001b[0;32mIn[205], line 14\u001b[0m, in \u001b[0;36mPerson.first_name\u001b[0;34m(self, first_name)\u001b[0m\n\u001b[1;32m     10\u001b[0m \u001b[38;5;129m@first_name\u001b[39m\u001b[38;5;241m.\u001b[39msetter\n\u001b[1;32m     11\u001b[0m \u001b[38;5;28;01mdef\u001b[39;00m \u001b[38;5;21mfirst_name\u001b[39m(\u001b[38;5;28mself\u001b[39m, first_name):\n\u001b[1;32m     13\u001b[0m     \u001b[38;5;28;01mif\u001b[39;00m \u001b[38;5;129;01mnot\u001b[39;00m first_name\u001b[38;5;241m.\u001b[39misalpha():\n\u001b[0;32m---> 14\u001b[0m         \u001b[38;5;28;01mraise\u001b[39;00m \u001b[38;5;167;01mTypeError\u001b[39;00m(\u001b[38;5;124m'\u001b[39m\u001b[38;5;124mName must only have alphabetic characters\u001b[39m\u001b[38;5;124m'\u001b[39m)\n\u001b[1;32m     16\u001b[0m     \u001b[38;5;28mself\u001b[39m\u001b[38;5;241m.\u001b[39m_first_name \u001b[38;5;241m=\u001b[39m first_name\n",
      "\u001b[0;31mTypeError\u001b[0m: Name must only have alphabetic characters"
     ]
    }
   ],
   "source": [
    "character = Person('annIE', 'HAll')\n",
    "print(character.name)          # Annie Hall\n",
    "character = Person('Da5id', 'Meier')\n",
    "# ValueError: Name must be alphabetic."
   ]
  },
  {
   "cell_type": "code",
   "execution_count": 209,
   "metadata": {},
   "outputs": [
    {
     "name": "stdout",
     "output_type": "stream",
     "text": [
      "Lynn Blake\n"
     ]
    },
    {
     "ename": "TypeError",
     "evalue": "Name must only have alphabetic characters",
     "output_type": "error",
     "traceback": [
      "\u001b[0;31m---------------------------------------------------------------------------\u001b[0m",
      "\u001b[0;31mTypeError\u001b[0m                                 Traceback (most recent call last)",
      "Cell \u001b[0;32mIn[209], line 3\u001b[0m\n\u001b[1;32m      1\u001b[0m friend \u001b[38;5;241m=\u001b[39m Person(\u001b[38;5;124m'\u001b[39m\u001b[38;5;124mLynn\u001b[39m\u001b[38;5;124m'\u001b[39m, \u001b[38;5;124m'\u001b[39m\u001b[38;5;124mBlake\u001b[39m\u001b[38;5;124m'\u001b[39m)\n\u001b[1;32m      2\u001b[0m \u001b[38;5;28mprint\u001b[39m(friend\u001b[38;5;241m.\u001b[39mname)             \u001b[38;5;66;03m# Lynn Blake\u001b[39;00m\n\u001b[0;32m----> 3\u001b[0m \u001b[43mfriend\u001b[49m\u001b[38;5;241;43m.\u001b[39;49m\u001b[43mname\u001b[49m \u001b[38;5;241m=\u001b[39m (\u001b[38;5;124m'\u001b[39m\u001b[38;5;124mLynn\u001b[39m\u001b[38;5;124m'\u001b[39m, \u001b[38;5;124m'\u001b[39m\u001b[38;5;124mBlake-John\u001b[39m\u001b[38;5;124m'\u001b[39m)\n\u001b[1;32m      4\u001b[0m \u001b[38;5;66;03m# ValueError: Name must be alphabetic.\u001b[39;00m\n",
      "Cell \u001b[0;32mIn[205], line 38\u001b[0m, in \u001b[0;36mPerson.name\u001b[0;34m(self, name_tuple)\u001b[0m\n\u001b[1;32m     34\u001b[0m \u001b[38;5;129m@name\u001b[39m\u001b[38;5;241m.\u001b[39msetter\n\u001b[1;32m     35\u001b[0m \u001b[38;5;28;01mdef\u001b[39;00m \u001b[38;5;21mname\u001b[39m(\u001b[38;5;28mself\u001b[39m, name_tuple):\n\u001b[1;32m     37\u001b[0m     \u001b[38;5;28;01mif\u001b[39;00m \u001b[38;5;129;01mnot\u001b[39;00m name_tuple[\u001b[38;5;241m0\u001b[39m]\u001b[38;5;241m.\u001b[39misalpha() \u001b[38;5;129;01mor\u001b[39;00m \u001b[38;5;129;01mnot\u001b[39;00m name_tuple[\u001b[38;5;241m1\u001b[39m]\u001b[38;5;241m.\u001b[39misalpha():\n\u001b[0;32m---> 38\u001b[0m         \u001b[38;5;28;01mraise\u001b[39;00m \u001b[38;5;167;01mTypeError\u001b[39;00m(\u001b[38;5;124m'\u001b[39m\u001b[38;5;124mName must only have alphabetic characters\u001b[39m\u001b[38;5;124m'\u001b[39m)\n\u001b[1;32m     40\u001b[0m     \u001b[38;5;28mself\u001b[39m\u001b[38;5;241m.\u001b[39m_first_name \u001b[38;5;241m=\u001b[39m name_tuple[\u001b[38;5;241m0\u001b[39m]\n\u001b[1;32m     41\u001b[0m     \u001b[38;5;28mself\u001b[39m\u001b[38;5;241m.\u001b[39m_last_name \u001b[38;5;241m=\u001b[39m name_tuple[\u001b[38;5;241m1\u001b[39m]\n",
      "\u001b[0;31mTypeError\u001b[0m: Name must only have alphabetic characters"
     ]
    }
   ],
   "source": [
    "friend = Person('Lynn', 'Blake')\n",
    "print(friend.name)             # Lynn Blake\n",
    "friend.name = ('Lynn', 'Blake-John')\n",
    "# ValueError: Name must be alphabetic."
   ]
  },
  {
   "cell_type": "code",
   "execution_count": 210,
   "metadata": {},
   "outputs": [],
   "source": [
    "class Person:\n",
    "\n",
    "    def __init__(self, first_name, last_name):\n",
    "        self._set_name(first_name, last_name)\n",
    "\n",
    "    @property\n",
    "    def name(self):\n",
    "        first_name = self._first_name.title()\n",
    "        last_name = self._last_name.title()\n",
    "        return f'{first_name} {last_name}'\n",
    "\n",
    "    @name.setter\n",
    "    def name(self, name):\n",
    "        first_name, last_name = name\n",
    "        self._set_name(first_name, last_name)\n",
    "\n",
    "    @classmethod\n",
    "    def _validate(cls, name):\n",
    "        if not name.isalpha():\n",
    "            raise ValueError('Name must be alphabetic.')\n",
    "\n",
    "    def _set_name(self, first_name, last_name):\n",
    "        Person._validate(first_name)\n",
    "        Person._validate(last_name)\n",
    "        self._first_name = first_name\n",
    "        self._last_name = last_name"
   ]
  },
  {
   "cell_type": "code",
   "execution_count": 211,
   "metadata": {},
   "outputs": [
    {
     "name": "stdout",
     "output_type": "stream",
     "text": [
      "Lynn Blake\n"
     ]
    }
   ],
   "source": [
    "friend = Person('Lynn', 'Blake')\n",
    "print(friend.name)"
   ]
  },
  {
   "cell_type": "code",
   "execution_count": 217,
   "metadata": {},
   "outputs": [
    {
     "name": "stdout",
     "output_type": "stream",
     "text": [
      "{'_model': 'T-Bird', '_model_year': 1994, '_color': 'red', 'speed': 0, 'on_status': False}\n"
     ]
    }
   ],
   "source": [
    "print(tbird.__dict__)\n"
   ]
  },
  {
   "cell_type": "code",
   "execution_count": 222,
   "metadata": {},
   "outputs": [],
   "source": [
    "class Car:\n",
    "\n",
    "    def __init__(self, model, model_year, color):\n",
    "        self.model = model\n",
    "        self.model_year = model_year\n",
    "        self.color = color\n",
    "        self.speed = 0\n",
    "        self.on_status = False\n",
    "\n",
    "    @property\n",
    "    def model(self):\n",
    "            return self._model\n",
    "\n",
    "    @model.setter\n",
    "    def model(self, model):\n",
    "        if not isinstance(model, str):\n",
    "            raise TypeError('Model must be a string')\n",
    "        \n",
    "        self._model = model\n",
    "\n",
    "    @property\n",
    "    def model_year(self):\n",
    "        return self._model_year\n",
    "\n",
    "    @model_year.setter\n",
    "    def model_year(self, model_year):\n",
    "        if not isinstance(model_year, int):\n",
    "            raise TypeError('Model Year must be an integer')\n",
    "\n",
    "        self._model_year = model_year\n",
    "\n",
    "    @property\n",
    "    def color(self):\n",
    "        return self._color\n",
    "\n",
    "    @color.setter\n",
    "    def color(self, color):\n",
    "        colors = ['red','orange','yellow','green','blue','indigo','violet',\n",
    "                'white','black']\n",
    "        if color not in colors:\n",
    "            raise TypeError('Color must be a valid color.')\n",
    "\n",
    "        self._color = color\n",
    "\n",
    "    def engine_on(self):\n",
    "        if self.on_status:\n",
    "            print(\"The car is already on!\")\n",
    "        \n",
    "        else:\n",
    "            self.on_status = True\n",
    "            print(\"The engine has been turned on.\")\n",
    "\n",
    "    def accelerate(self, accelerator):\n",
    "        if not self.on_status:\n",
    "            print(\"The car is not on, please turn the car on to accelerate.\")\n",
    "\n",
    "        else:\n",
    "            self.speed += accelerator\n",
    "            print(f\"The accelerator has been engaged, speed is now {self.speed}\")\n",
    "\n",
    "    def brake(self, decelerator):\n",
    "        if self.speed - decelerator < 0:\n",
    "            self.speed = 0\n",
    "\n",
    "        else:\n",
    "            self.speed -= decelerator\n",
    "\n",
    "        print(f\"The brake has been applied, the speed is now {self.speed}.\")\n",
    "\n",
    "    def engine_off(self):\n",
    "        if not self.on_status:\n",
    "            print(\"The car is already off!\")\n",
    "\n",
    "        else:\n",
    "            self.on_status = False\n",
    "            print(\"The engine has been turned off.\")\n",
    "    \n",
    "    def current_speed(self):\n",
    "        print(f\"The car's current speed is {self.speed}\")\n",
    "\n",
    "    def spray_paint(self, color):\n",
    "        self.color = color\n",
    "        print(f\"Your {color} paint job looks great!\")\n",
    "        \n",
    "   # Add a class method to your Car class that calculates and \n",
    "   # prints any car's average gas mileage (miles per gallon). \n",
    "   # You can compute the mileage by dividing the distance traveled \n",
    "   # (in miles) by the fuel burned (in gallons).\n",
    "\n",
    "    @classmethod\n",
    "    def gas_mileage(cls, miles_traveled, gallons_fuel_burned):\n",
    "        print(f\"{round(miles_traveled / gallons_fuel_burned, 2)} MPG\")\n",
    "\n",
    "    #can be made into a static method\n",
    "    '''\n",
    "    @staticmethod\n",
    "    def gas_mileage(miles_traveled, gallons_fuel_burned):\n",
    "        print(f\"{round(miles_traveled / gallons_fuel_burned, 2)} MPG\")\n",
    "    '''\n",
    "\n",
    "    def __str__(self):\n",
    "        return f\"{self.color.title()} {self.model_year} {self.model}\"\n",
    "\n",
    "    def __repr__(self):\n",
    "        return f'Car({repr(self.model)}, {repr(self.model_year)}, {repr(self.color)})'\n",
    "    \n"
   ]
  },
  {
   "cell_type": "code",
   "execution_count": 223,
   "metadata": {},
   "outputs": [
    {
     "name": "stdout",
     "output_type": "stream",
     "text": [
      "Red 2024 ID.Buzz\n",
      "Car('ID.Buzz', 2024, 'red')\n"
     ]
    }
   ],
   "source": [
    "vwbuzz = Car('ID.Buzz', 2024, 'red')\n",
    "print(vwbuzz)        # Red 2024 ID.Buzz\n",
    "print(repr(vwbuzz))  # Car('ID.Buzz', 2024, 'red')"
   ]
  },
  {
   "cell_type": "code",
   "execution_count": 232,
   "metadata": {},
   "outputs": [
    {
     "name": "stdout",
     "output_type": "stream",
     "text": [
      "Vector(18, 8)\n"
     ]
    }
   ],
   "source": [
    "class Vector:\n",
    "\n",
    "    def __init__(self, x, y):\n",
    "        self.x = x\n",
    "        self.y = y\n",
    "\n",
    "    def __add__(self, other):\n",
    "        if not isinstance(other, Vector):\n",
    "            return NotImplemented\n",
    "\n",
    "        new_x = self.x + other.x\n",
    "        new_y = self.y + other.y\n",
    "        return Vector(new_x, new_y)\n",
    "\n",
    "    def __sub__(self, other):\n",
    "        if not isinstance(other, Vector):\n",
    "            return NotImplemented\n",
    "\n",
    "        new_x = self.x - other.x\n",
    "        new_y = self.y - other.y\n",
    "        return Vector(new_x, new_y)\n",
    "    \n",
    "    def __mul__(self, other):\n",
    "        if not isinstance(other, Vector):\n",
    "            return NotImplemented\n",
    "\n",
    "        new_x = self.x * other.x\n",
    "        new_y = self.y * other.y\n",
    "        return new_x + new_y\n",
    "    \n",
    "\n",
    "    def __abs__(self):\n",
    "        from math import sqrt\n",
    "        return sqrt(self.x**2 + self.y**2)\n",
    "    \n",
    "\n",
    "    def __repr__(self):\n",
    "        x = repr(self.x)\n",
    "        y = repr(self.y)\n",
    "        return f'Vector({x}, {y})'\n",
    "\n",
    "v1 = Vector(5, 12)\n",
    "v2 = Vector(13, -4)\n",
    "print(v1 + v2)      # Vector(18, 8)"
   ]
  },
  {
   "cell_type": "markdown",
   "metadata": {},
   "source": [
    "Update this class so the following code works as indicated:"
   ]
  },
  {
   "cell_type": "code",
   "execution_count": 234,
   "metadata": {},
   "outputs": [
    {
     "name": "stdout",
     "output_type": "stream",
     "text": [
      "Vector(-8, 16)\n",
      "17\n",
      "13.0\n",
      "6\n"
     ]
    }
   ],
   "source": [
    "print(v1 - v2) # Vector(-8, 16)\n",
    "print(v1 * v2) # 17\n",
    "print(abs(v1)) # 13.0\n",
    "print(abs(-6))"
   ]
  },
  {
   "cell_type": "markdown",
   "metadata": {},
   "source": [
    "Challenge: Create the classes needed to make the following code work as shown:"
   ]
  },
  {
   "cell_type": "code",
   "execution_count": 276,
   "metadata": {},
   "outputs": [],
   "source": [
    "class Candidate:\n",
    "    def __init__(self, name):\n",
    "        self.name = name\n",
    "        self._votes = 0\n",
    "\n",
    "    @property\n",
    "    def name(self):\n",
    "        return self._name\n",
    "    \n",
    "    @name.setter\n",
    "    def name(self, name):\n",
    "        if not isinstance(name, str):\n",
    "            raise TypeError('name must be a string')\n",
    "        \n",
    "        self._name = name\n",
    "\n",
    "    def __iadd__(self, other):\n",
    "        if not isinstance(other, int):\n",
    "            return NotImplemented\n",
    "\n",
    "        self._votes += other\n",
    "        return self._votes\n",
    "    \n",
    "    def __str__(self):\n",
    "        return (f'{self.name}: {self._votes}')\n"
   ]
  },
  {
   "cell_type": "code",
   "execution_count": 328,
   "metadata": {},
   "outputs": [],
   "source": [
    "\n",
    "class Election:\n",
    "    def __init__(self, candidate_set):\n",
    "        self.candidates = candidate_set\n",
    "\n",
    "    def results(self):\n",
    "\n",
    "        candidate_votes = [[candidate.name, candidate._votes] for candidate in self.candidates]\n",
    "\n",
    "        def sort_key(candidate):\n",
    "            return candidate[1]\n",
    "        \n",
    "        candidate_votes.sort(key = sort_key, reverse = True)\n",
    "\n",
    "        _total_votes = sum([candidate[1] for candidate in candidate_votes])\n",
    "\n",
    "        _win_percentage = round(candidate_votes[0][1] / _total_votes, 2) * 100\n",
    "\n",
    "        for candidate in candidate_votes:\n",
    "            print(f\"{candidate[0]}: {candidate[1]}\")\n",
    "        print()\n",
    "        print(f\"{candidate_votes[0][0]} won: {_win_percentage}% of votes\")\n",
    "              \n",
    "        \n"
   ]
  },
  {
   "cell_type": "code",
   "execution_count": 329,
   "metadata": {},
   "outputs": [
    {
     "name": "stdout",
     "output_type": "stream",
     "text": [
      "Susan Dore: 4\n",
      "Mike Jones: 3\n",
      "Kim Waters: 1\n",
      "\n",
      "Susan Dore won: 50.0% of votes\n"
     ]
    }
   ],
   "source": [
    "mike_jones = Candidate('Mike Jones')\n",
    "susan_dore = Candidate('Susan Dore')\n",
    "kim_waters = Candidate('Kim Waters')\n",
    "\n",
    "candidates = {\n",
    "    mike_jones,\n",
    "    susan_dore,\n",
    "    kim_waters,\n",
    "}\n",
    "\n",
    "votes = [\n",
    "    mike_jones,\n",
    "    susan_dore,\n",
    "    mike_jones,\n",
    "    susan_dore,\n",
    "    susan_dore,\n",
    "    kim_waters,\n",
    "    susan_dore,\n",
    "    mike_jones,\n",
    "]\n",
    "\n",
    "for candidate in votes:\n",
    "    candidate += 1\n",
    "\n",
    "election = Election(candidates)\n",
    "election.results()"
   ]
  },
  {
   "cell_type": "markdown",
   "metadata": {},
   "source": [
    "Write the code needed to make the following code work as shown:"
   ]
  },
  {
   "cell_type": "code",
   "execution_count": 346,
   "metadata": {},
   "outputs": [],
   "source": [
    "class Vehicle():\n",
    "\n",
    "    vehicle_count = 0\n",
    "\n",
    "    def __init__(self):\n",
    "        Vehicle.vehicle_count += 1\n",
    "\n",
    "    @classmethod\n",
    "    def vehicles(cls):\n",
    "        return Vehicle.vehicle_count\n",
    "    \n",
    "class TurnSignalMixin:\n",
    "    def signal_left(self):\n",
    "        print(\"Signalling left\")\n",
    "\n",
    "    def signal_right(self):\n",
    "        print(\"Signalling right\")\n",
    "\n",
    "    def signal_off(self):\n",
    "        print(\"Signal is now off\")\n",
    "\n",
    "class Car(Vehicle, TurnSignalMixin):\n",
    "    def __init__(self):\n",
    "        super().__init__()\n",
    "\n",
    "class Truck(Vehicle, TurnSignalMixin):\n",
    "    def __init__(self):\n",
    "        super().__init__()\n",
    "\n",
    "class Boat(Vehicle):\n",
    "    def __init__(self):\n",
    "        super().__init__()"
   ]
  },
  {
   "cell_type": "code",
   "execution_count": 347,
   "metadata": {},
   "outputs": [
    {
     "name": "stdout",
     "output_type": "stream",
     "text": [
      "0\n",
      "1\n",
      "4\n",
      "6\n",
      "8\n"
     ]
    }
   ],
   "source": [
    "print(Car.vehicles())     # 0\n",
    "car1 = Car()\n",
    "print(Car.vehicles())     # 1\n",
    "car2 = Car()\n",
    "car3 = Car()\n",
    "car4 = Car()\n",
    "print(Car.vehicles())     # 4\n",
    "truck1 = Truck()\n",
    "truck2 = Truck()\n",
    "print(Truck.vehicles())   # 6\n",
    "boat1 = Boat()\n",
    "boat2 = Boat()\n",
    "print(Boat.vehicles())    # 8"
   ]
  },
  {
   "cell_type": "code",
   "execution_count": 348,
   "metadata": {},
   "outputs": [
    {
     "name": "stdout",
     "output_type": "stream",
     "text": [
      "Signalling left\n",
      "Signalling right\n",
      "Signal is now off\n",
      "Signal is now off\n"
     ]
    },
    {
     "ename": "AttributeError",
     "evalue": "'Boat' object has no attribute 'signal_left'",
     "output_type": "error",
     "traceback": [
      "\u001b[0;31m---------------------------------------------------------------------------\u001b[0m",
      "\u001b[0;31mAttributeError\u001b[0m                            Traceback (most recent call last)",
      "Cell \u001b[0;32mIn[348], line 5\u001b[0m\n\u001b[1;32m      3\u001b[0m car1\u001b[38;5;241m.\u001b[39msignal_off()        \u001b[38;5;66;03m# Signal is now off\u001b[39;00m\n\u001b[1;32m      4\u001b[0m truck1\u001b[38;5;241m.\u001b[39msignal_off()      \u001b[38;5;66;03m# Signal is now off\u001b[39;00m\n\u001b[0;32m----> 5\u001b[0m \u001b[43mboat1\u001b[49m\u001b[38;5;241;43m.\u001b[39;49m\u001b[43msignal_left\u001b[49m()\n\u001b[1;32m      6\u001b[0m \u001b[38;5;66;03m# AttributeError: 'Boat' object has no attribute\u001b[39;00m\n\u001b[1;32m      7\u001b[0m \u001b[38;5;66;03m# 'signal_left'\u001b[39;00m\n",
      "\u001b[0;31mAttributeError\u001b[0m: 'Boat' object has no attribute 'signal_left'"
     ]
    }
   ],
   "source": [
    "car1.signal_left()       # Signalling left\n",
    "truck1.signal_right()    # Signalling right\n",
    "car1.signal_off()        # Signal is now off\n",
    "truck1.signal_off()      # Signal is now off\n",
    "boat1.signal_left()\n",
    "# AttributeError: 'Boat' object has no attribute\n",
    "# 'signal_left'"
   ]
  },
  {
   "cell_type": "code",
   "execution_count": 351,
   "metadata": {},
   "outputs": [
    {
     "name": "stdout",
     "output_type": "stream",
     "text": [
      "[<class '__main__.Car'>, <class '__main__.Vehicle'>, <class '__main__.TurnSignalMixin'>, <class 'object'>]\n",
      "[<class '__main__.Truck'>, <class '__main__.Vehicle'>, <class '__main__.TurnSignalMixin'>, <class 'object'>]\n",
      "[<class '__main__.Boat'>, <class '__main__.Vehicle'>, <class 'object'>]\n",
      "[<class '__main__.Vehicle'>, <class 'object'>]\n"
     ]
    }
   ],
   "source": [
    "print(Car.mro())\n",
    "print(Truck.mro())\n",
    "print(Boat.mro())\n",
    "print(Vehicle.mro())"
   ]
  }
 ],
 "metadata": {
  "kernelspec": {
   "display_name": "Python 3",
   "language": "python",
   "name": "python3"
  },
  "language_info": {
   "codemirror_mode": {
    "name": "ipython",
    "version": 3
   },
   "file_extension": ".py",
   "mimetype": "text/x-python",
   "name": "python",
   "nbconvert_exporter": "python",
   "pygments_lexer": "ipython3",
   "version": "3.12.5"
  }
 },
 "nbformat": 4,
 "nbformat_minor": 2
}
